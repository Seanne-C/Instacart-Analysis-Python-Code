{
 "cells": [
  {
   "cell_type": "markdown",
   "id": "53ef0c89",
   "metadata": {},
   "source": [
    "# Contents in this notebook\n",
    "\n",
    "#### 1. Importing Libraries and Datasets\n",
    "\n",
    "#### 2. Task 4.10 Questions 5 - 10 (Part 1)\n",
    "         Question 5: Creating profile variables\n",
    "         Question 6: Creating Visualizations for profile variables\n",
    "         Question 7: Aggregating the data\n",
    "         Question 8: Compare customer profiles with regions and departments\n",
    "         Question 9: Create visualizations for comparison of customer profiles with regions and departments\n",
    "         Question 10: Clean up script and export dataset\n",
    "         "
   ]
  },
  {
   "cell_type": "markdown",
   "id": "92695d13",
   "metadata": {},
   "source": [
    "# Importing Libaries"
   ]
  },
  {
   "cell_type": "code",
   "execution_count": 1,
   "id": "e6f2a762",
   "metadata": {},
   "outputs": [],
   "source": [
    "# Import Libraries\n",
    "import pandas as pd\n",
    "import numpy as np\n",
    "import os\n",
    "import matplotlib.pyplot as plt\n",
    "import seaborn as sns\n",
    "import scipy"
   ]
  },
  {
   "cell_type": "code",
   "execution_count": 2,
   "id": "3319525d",
   "metadata": {},
   "outputs": [],
   "source": [
    "# Defining Path\n",
    "path = r'C:\\Users\\seann\\Downloads\\Career Foundry Tasks\\12-08-22 Instacart Basket Analysis'"
   ]
  },
  {
   "cell_type": "code",
   "execution_count": 3,
   "id": "fb14835b",
   "metadata": {},
   "outputs": [],
   "source": [
    "# Importing Orders and Products Merged Data Set\n",
    "instacart_merged_updated = pd.read_pickle(os.path.join(path, '02 Data', 'Prepared Data', 'instacart_merged_updated.pkl'))"
   ]
  },
  {
   "cell_type": "code",
   "execution_count": 4,
   "id": "86f07709",
   "metadata": {},
   "outputs": [],
   "source": [
    "# Importing Instacart regular activity customer subset Data Set\n",
    "regular_activity_sub = pd.read_pickle(os.path.join(path, '02 Data', 'Prepared Data', 'instacart_ regular_activity_sub.pkl'))"
   ]
  },
  {
   "cell_type": "markdown",
   "id": "fab145a0",
   "metadata": {},
   "source": [
    "## 4.10 Question 5"
   ]
  },
  {
   "cell_type": "code",
   "execution_count": 5,
   "id": "b0d7afb0",
   "metadata": {},
   "outputs": [],
   "source": [
    "# Creating babies subset based off of department_id\n",
    "babies = regular_activity_sub[regular_activity_sub['department_id']==18]"
   ]
  },
  {
   "cell_type": "code",
   "execution_count": 6,
   "id": "5398fcb9",
   "metadata": {},
   "outputs": [
    {
     "data": {
      "text/plain": [
       "(410392, 39)"
      ]
     },
     "execution_count": 6,
     "metadata": {},
     "output_type": "execute_result"
    }
   ],
   "source": [
    "babies.shape"
   ]
  },
  {
   "cell_type": "code",
   "execution_count": 7,
   "id": "dea3c599",
   "metadata": {},
   "outputs": [],
   "source": [
    "# Removing Duplicates\n",
    "babies = babies.drop_duplicates()"
   ]
  },
  {
   "cell_type": "code",
   "execution_count": 8,
   "id": "8c339fc3",
   "metadata": {},
   "outputs": [],
   "source": [
    "# Creating a list for babies\n",
    "list_babies = babies['user_id'].unique()"
   ]
  },
  {
   "cell_type": "code",
   "execution_count": 9,
   "id": "f6ab0396",
   "metadata": {},
   "outputs": [
    {
     "data": {
      "text/plain": [
       "Index(['order_id', 'user_id', 'amount_of_orders_made', 'order_day_of_week',\n",
       "       'order_hour_of_day', 'days_since_prior_order', 'product_id',\n",
       "       'add_to_cart_order', 'reordered', 'product_name', 'aisle_id',\n",
       "       'department_id', 'prices', 'price_range_loc', 'busiest day',\n",
       "       'busiest days', 'Busiest Order Periods', 'max_order', 'loyalty_flag',\n",
       "       'avg_price', 'spending_flag', 'median_days_since_prior_order',\n",
       "       'frequency_flag', 'add _to_cart_order', 'First Name', 'Surname',\n",
       "       'Gender', 'State', 'Age', 'date_joined', 'dependants', 'fam_status',\n",
       "       'income', '_merge', 'region', 'exclusion_flag', 'age_flag',\n",
       "       'income_flag', 'dependant_flag'],\n",
       "      dtype='object')"
      ]
     },
     "execution_count": 9,
     "metadata": {},
     "output_type": "execute_result"
    }
   ],
   "source": [
    "# Checking columns for regular activity sub dataframe\n",
    "regular_activity_sub.columns"
   ]
  },
  {
   "cell_type": "code",
   "execution_count": 10,
   "id": "0436672c",
   "metadata": {},
   "outputs": [],
   "source": [
    "# Creating baby flag\n",
    "regular_activity_sub.loc[(regular_activity_sub['user_id'].isin(list_babies))&(regular_activity_sub['dependants']>0),'baby_flag']='Young Child'\n",
    "regular_activity_sub.loc[(regular_activity_sub['department_id']!=18)&(regular_activity_sub['dependants']>0),'baby_flag']='Older Child'\n",
    "regular_activity_sub.loc[regular_activity_sub['dependants']==0,'baby_flag']='No Child'"
   ]
  },
  {
   "cell_type": "code",
   "execution_count": 11,
   "id": "0eff5499",
   "metadata": {},
   "outputs": [
    {
     "data": {
      "text/html": [
       "<div>\n",
       "<style scoped>\n",
       "    .dataframe tbody tr th:only-of-type {\n",
       "        vertical-align: middle;\n",
       "    }\n",
       "\n",
       "    .dataframe tbody tr th {\n",
       "        vertical-align: top;\n",
       "    }\n",
       "\n",
       "    .dataframe thead th {\n",
       "        text-align: right;\n",
       "    }\n",
       "</style>\n",
       "<table border=\"1\" class=\"dataframe\">\n",
       "  <thead>\n",
       "    <tr style=\"text-align: right;\">\n",
       "      <th></th>\n",
       "      <th>order_id</th>\n",
       "      <th>user_id</th>\n",
       "      <th>amount_of_orders_made</th>\n",
       "      <th>order_day_of_week</th>\n",
       "      <th>order_hour_of_day</th>\n",
       "      <th>days_since_prior_order</th>\n",
       "      <th>product_id</th>\n",
       "      <th>add_to_cart_order</th>\n",
       "      <th>reordered</th>\n",
       "      <th>product_name</th>\n",
       "      <th>...</th>\n",
       "      <th>dependants</th>\n",
       "      <th>fam_status</th>\n",
       "      <th>income</th>\n",
       "      <th>_merge</th>\n",
       "      <th>region</th>\n",
       "      <th>exclusion_flag</th>\n",
       "      <th>age_flag</th>\n",
       "      <th>income_flag</th>\n",
       "      <th>dependant_flag</th>\n",
       "      <th>baby_flag</th>\n",
       "    </tr>\n",
       "  </thead>\n",
       "  <tbody>\n",
       "    <tr>\n",
       "      <th>0</th>\n",
       "      <td>2539329</td>\n",
       "      <td>1</td>\n",
       "      <td>1</td>\n",
       "      <td>2</td>\n",
       "      <td>8</td>\n",
       "      <td>999.0</td>\n",
       "      <td>196</td>\n",
       "      <td>1</td>\n",
       "      <td>0</td>\n",
       "      <td>Soda</td>\n",
       "      <td>...</td>\n",
       "      <td>3</td>\n",
       "      <td>married</td>\n",
       "      <td>40423</td>\n",
       "      <td>both</td>\n",
       "      <td>South</td>\n",
       "      <td>Regular activity customer</td>\n",
       "      <td>Middle Age</td>\n",
       "      <td>middle income</td>\n",
       "      <td>Large Household</td>\n",
       "      <td>Older Child</td>\n",
       "    </tr>\n",
       "  </tbody>\n",
       "</table>\n",
       "<p>1 rows × 40 columns</p>\n",
       "</div>"
      ],
      "text/plain": [
       "   order_id  user_id  amount_of_orders_made  order_day_of_week  \\\n",
       "0   2539329        1                      1                  2   \n",
       "\n",
       "   order_hour_of_day  days_since_prior_order  product_id  add_to_cart_order  \\\n",
       "0                  8                   999.0         196                  1   \n",
       "\n",
       "   reordered product_name  ...  dependants  fam_status  income _merge region  \\\n",
       "0          0         Soda  ...           3     married   40423   both  South   \n",
       "\n",
       "              exclusion_flag    age_flag    income_flag   dependant_flag  \\\n",
       "0  Regular activity customer  Middle Age  middle income  Large Household   \n",
       "\n",
       "     baby_flag  \n",
       "0  Older Child  \n",
       "\n",
       "[1 rows x 40 columns]"
      ]
     },
     "execution_count": 11,
     "metadata": {},
     "output_type": "execute_result"
    }
   ],
   "source": [
    "regular_activity_sub.head(1)"
   ]
  },
  {
   "cell_type": "code",
   "execution_count": 12,
   "id": "4a155026",
   "metadata": {},
   "outputs": [
    {
     "data": {
      "text/plain": [
       "Older Child    22917819\n",
       "No Child        7739681\n",
       "Young Child      307064\n",
       "Name: baby_flag, dtype: int64"
      ]
     },
     "execution_count": 12,
     "metadata": {},
     "output_type": "execute_result"
    }
   ],
   "source": [
    "# Checking value count\n",
    "regular_activity_sub['baby_flag'].value_counts(dropna = False)"
   ]
  },
  {
   "cell_type": "markdown",
   "id": "a91e89e5",
   "metadata": {},
   "source": [
    "## 4.10 Question 6 (Making Visulizations)"
   ]
  },
  {
   "cell_type": "code",
   "execution_count": 13,
   "id": "4b7bb156",
   "metadata": {},
   "outputs": [
    {
     "data": {
      "text/plain": [
       "<AxesSubplot:>"
      ]
     },
     "execution_count": 13,
     "metadata": {},
     "output_type": "execute_result"
    },
    {
     "data": {
      "image/png": "[encoded data removed]",
      "text/plain": [
       "<Figure size 640x480 with 1 Axes>"
      ]
     },
     "metadata": {},
     "output_type": "display_data"
    }
   ],
   "source": [
    "# Bar chart for age group\n",
    "regular_activity_sub['age_flag'].value_counts().plot.bar()"
   ]
  },
  {
   "cell_type": "code",
   "execution_count": 14,
   "id": "5bf11c6e",
   "metadata": {},
   "outputs": [
    {
     "data": {
      "text/plain": [
       "<AxesSubplot:>"
      ]
     },
     "execution_count": 14,
     "metadata": {},
     "output_type": "execute_result"
    },
    {
     "data": {
      "image/png": "[encoded data removed]",
      "text/plain": [
       "<Figure size 640x480 with 1 Axes>"
      ]
     },
     "metadata": {},
     "output_type": "display_data"
    }
   ],
   "source": [
    "# Bar chart for income\n",
    "regular_activity_sub['income_flag'].value_counts().plot.bar()"
   ]
  },
  {
   "cell_type": "code",
   "execution_count": 15,
   "id": "b5fba209",
   "metadata": {},
   "outputs": [
    {
     "data": {
      "text/plain": [
       "<AxesSubplot:>"
      ]
     },
     "execution_count": 15,
     "metadata": {},
     "output_type": "execute_result"
    },
    {
     "data": {
      "image/png": "[encoded data removed]",
      "text/plain": [
       "<Figure size 640x480 with 1 Axes>"
      ]
     },
     "metadata": {},
     "output_type": "display_data"
    }
   ],
   "source": [
    "# Bar chart for household size\n",
    "regular_activity_sub['dependant_flag'].value_counts().plot.bar()"
   ]
  },
  {
   "cell_type": "code",
   "execution_count": 16,
   "id": "5c398583",
   "metadata": {},
   "outputs": [
    {
     "data": {
      "text/plain": [
       "<AxesSubplot:>"
      ]
     },
     "execution_count": 16,
     "metadata": {},
     "output_type": "execute_result"
    },
    {
     "data": {
      "image/png": "[encoded data removed]",
      "text/plain": [
       "<Figure size 640x480 with 1 Axes>"
      ]
     },
     "metadata": {},
     "output_type": "display_data"
    }
   ],
   "source": [
    "# Bar chart for child age in households\n",
    "regular_activity_sub['baby_flag'].value_counts().plot.bar()"
   ]
  },
  {
   "cell_type": "markdown",
   "id": "46500be6",
   "metadata": {},
   "source": [
    "## 4.10 Question 7 (Aggregating Data)"
   ]
  },
  {
   "cell_type": "code",
   "execution_count": 17,
   "id": "9339cbd6",
   "metadata": {},
   "outputs": [
    {
     "data": {
      "text/html": [
       "<div>\n",
       "<style scoped>\n",
       "    .dataframe tbody tr th:only-of-type {\n",
       "        vertical-align: middle;\n",
       "    }\n",
       "\n",
       "    .dataframe tbody tr th {\n",
       "        vertical-align: top;\n",
       "    }\n",
       "\n",
       "    .dataframe thead tr th {\n",
       "        text-align: left;\n",
       "    }\n",
       "\n",
       "    .dataframe thead tr:last-of-type th {\n",
       "        text-align: right;\n",
       "    }\n",
       "</style>\n",
       "<table border=\"1\" class=\"dataframe\">\n",
       "  <thead>\n",
       "    <tr>\n",
       "      <th></th>\n",
       "      <th colspan=\"3\" halign=\"left\">days_since_prior_order</th>\n",
       "    </tr>\n",
       "    <tr>\n",
       "      <th></th>\n",
       "      <th>mean</th>\n",
       "      <th>min</th>\n",
       "      <th>max</th>\n",
       "    </tr>\n",
       "    <tr>\n",
       "      <th>age_flag</th>\n",
       "      <th></th>\n",
       "      <th></th>\n",
       "      <th></th>\n",
       "    </tr>\n",
       "  </thead>\n",
       "  <tbody>\n",
       "    <tr>\n",
       "      <th>Middle Age</th>\n",
       "      <td>63.62500</td>\n",
       "      <td>0.0</td>\n",
       "      <td>999.0</td>\n",
       "    </tr>\n",
       "    <tr>\n",
       "      <th>Old</th>\n",
       "      <td>64.00000</td>\n",
       "      <td>0.0</td>\n",
       "      <td>999.0</td>\n",
       "    </tr>\n",
       "    <tr>\n",
       "      <th>Young</th>\n",
       "      <td>63.90625</td>\n",
       "      <td>0.0</td>\n",
       "      <td>999.0</td>\n",
       "    </tr>\n",
       "  </tbody>\n",
       "</table>\n",
       "</div>"
      ],
      "text/plain": [
       "           days_since_prior_order            \n",
       "                             mean  min    max\n",
       "age_flag                                     \n",
       "Middle Age               63.62500  0.0  999.0\n",
       "Old                      64.00000  0.0  999.0\n",
       "Young                    63.90625  0.0  999.0"
      ]
     },
     "execution_count": 17,
     "metadata": {},
     "output_type": "execute_result"
    }
   ],
   "source": [
    "# Aggregating frequency per age\n",
    "regular_activity_sub.groupby('age_flag').agg({'days_since_prior_order': ['mean', 'min', 'max']})"
   ]
  },
  {
   "cell_type": "code",
   "execution_count": 18,
   "id": "eb5ab91b",
   "metadata": {},
   "outputs": [
    {
     "data": {
      "text/html": [
       "<div>\n",
       "<style scoped>\n",
       "    .dataframe tbody tr th:only-of-type {\n",
       "        vertical-align: middle;\n",
       "    }\n",
       "\n",
       "    .dataframe tbody tr th {\n",
       "        vertical-align: top;\n",
       "    }\n",
       "\n",
       "    .dataframe thead tr th {\n",
       "        text-align: left;\n",
       "    }\n",
       "\n",
       "    .dataframe thead tr:last-of-type th {\n",
       "        text-align: right;\n",
       "    }\n",
       "</style>\n",
       "<table border=\"1\" class=\"dataframe\">\n",
       "  <thead>\n",
       "    <tr>\n",
       "      <th></th>\n",
       "      <th colspan=\"3\" halign=\"left\">prices</th>\n",
       "    </tr>\n",
       "    <tr>\n",
       "      <th></th>\n",
       "      <th>mean</th>\n",
       "      <th>min</th>\n",
       "      <th>max</th>\n",
       "    </tr>\n",
       "    <tr>\n",
       "      <th>age_flag</th>\n",
       "      <th></th>\n",
       "      <th></th>\n",
       "      <th></th>\n",
       "    </tr>\n",
       "  </thead>\n",
       "  <tbody>\n",
       "    <tr>\n",
       "      <th>Middle Age</th>\n",
       "      <td>NaN</td>\n",
       "      <td>1.0</td>\n",
       "      <td>inf</td>\n",
       "    </tr>\n",
       "    <tr>\n",
       "      <th>Old</th>\n",
       "      <td>NaN</td>\n",
       "      <td>1.0</td>\n",
       "      <td>inf</td>\n",
       "    </tr>\n",
       "    <tr>\n",
       "      <th>Young</th>\n",
       "      <td>NaN</td>\n",
       "      <td>1.0</td>\n",
       "      <td>inf</td>\n",
       "    </tr>\n",
       "  </tbody>\n",
       "</table>\n",
       "</div>"
      ],
      "text/plain": [
       "           prices          \n",
       "             mean  min  max\n",
       "age_flag                   \n",
       "Middle Age    NaN  1.0  inf\n",
       "Old           NaN  1.0  inf\n",
       "Young         NaN  1.0  inf"
      ]
     },
     "execution_count": 18,
     "metadata": {},
     "output_type": "execute_result"
    }
   ],
   "source": [
    "# Aggregating expenditure per age\n",
    "regular_activity_sub.groupby('age_flag').agg({'prices': ['mean', 'min', 'max']})"
   ]
  },
  {
   "cell_type": "code",
   "execution_count": 19,
   "id": "d8ceced1",
   "metadata": {},
   "outputs": [
    {
     "data": {
      "text/html": [
       "<div>\n",
       "<style scoped>\n",
       "    .dataframe tbody tr th:only-of-type {\n",
       "        vertical-align: middle;\n",
       "    }\n",
       "\n",
       "    .dataframe tbody tr th {\n",
       "        vertical-align: top;\n",
       "    }\n",
       "\n",
       "    .dataframe thead tr th {\n",
       "        text-align: left;\n",
       "    }\n",
       "\n",
       "    .dataframe thead tr:last-of-type th {\n",
       "        text-align: right;\n",
       "    }\n",
       "</style>\n",
       "<table border=\"1\" class=\"dataframe\">\n",
       "  <thead>\n",
       "    <tr>\n",
       "      <th></th>\n",
       "      <th colspan=\"3\" halign=\"left\">days_since_prior_order</th>\n",
       "    </tr>\n",
       "    <tr>\n",
       "      <th></th>\n",
       "      <th>mean</th>\n",
       "      <th>min</th>\n",
       "      <th>max</th>\n",
       "    </tr>\n",
       "    <tr>\n",
       "      <th>income_flag</th>\n",
       "      <th></th>\n",
       "      <th></th>\n",
       "      <th></th>\n",
       "    </tr>\n",
       "  </thead>\n",
       "  <tbody>\n",
       "    <tr>\n",
       "      <th>high income</th>\n",
       "      <td>63.3750</td>\n",
       "      <td>0.0</td>\n",
       "      <td>999.0</td>\n",
       "    </tr>\n",
       "    <tr>\n",
       "      <th>low income</th>\n",
       "      <td>71.5625</td>\n",
       "      <td>0.0</td>\n",
       "      <td>999.0</td>\n",
       "    </tr>\n",
       "    <tr>\n",
       "      <th>middle income</th>\n",
       "      <td>64.1250</td>\n",
       "      <td>0.0</td>\n",
       "      <td>999.0</td>\n",
       "    </tr>\n",
       "  </tbody>\n",
       "</table>\n",
       "</div>"
      ],
      "text/plain": [
       "              days_since_prior_order            \n",
       "                                mean  min    max\n",
       "income_flag                                     \n",
       "high income                  63.3750  0.0  999.0\n",
       "low income                   71.5625  0.0  999.0\n",
       "middle income                64.1250  0.0  999.0"
      ]
     },
     "execution_count": 19,
     "metadata": {},
     "output_type": "execute_result"
    }
   ],
   "source": [
    "# Aggregating frequency per income\n",
    "regular_activity_sub.groupby('income_flag').agg({'days_since_prior_order': ['mean', 'min', 'max']})"
   ]
  },
  {
   "cell_type": "code",
   "execution_count": 20,
   "id": "b45512d9",
   "metadata": {},
   "outputs": [
    {
     "data": {
      "text/html": [
       "<div>\n",
       "<style scoped>\n",
       "    .dataframe tbody tr th:only-of-type {\n",
       "        vertical-align: middle;\n",
       "    }\n",
       "\n",
       "    .dataframe tbody tr th {\n",
       "        vertical-align: top;\n",
       "    }\n",
       "\n",
       "    .dataframe thead tr th {\n",
       "        text-align: left;\n",
       "    }\n",
       "\n",
       "    .dataframe thead tr:last-of-type th {\n",
       "        text-align: right;\n",
       "    }\n",
       "</style>\n",
       "<table border=\"1\" class=\"dataframe\">\n",
       "  <thead>\n",
       "    <tr>\n",
       "      <th></th>\n",
       "      <th colspan=\"3\" halign=\"left\">prices</th>\n",
       "    </tr>\n",
       "    <tr>\n",
       "      <th></th>\n",
       "      <th>mean</th>\n",
       "      <th>min</th>\n",
       "      <th>max</th>\n",
       "    </tr>\n",
       "    <tr>\n",
       "      <th>income_flag</th>\n",
       "      <th></th>\n",
       "      <th></th>\n",
       "      <th></th>\n",
       "    </tr>\n",
       "  </thead>\n",
       "  <tbody>\n",
       "    <tr>\n",
       "      <th>high income</th>\n",
       "      <td>NaN</td>\n",
       "      <td>1.0</td>\n",
       "      <td>inf</td>\n",
       "    </tr>\n",
       "    <tr>\n",
       "      <th>low income</th>\n",
       "      <td>6.53125</td>\n",
       "      <td>1.0</td>\n",
       "      <td>25.0</td>\n",
       "    </tr>\n",
       "    <tr>\n",
       "      <th>middle income</th>\n",
       "      <td>NaN</td>\n",
       "      <td>1.0</td>\n",
       "      <td>inf</td>\n",
       "    </tr>\n",
       "  </tbody>\n",
       "</table>\n",
       "</div>"
      ],
      "text/plain": [
       "                prices           \n",
       "                  mean  min   max\n",
       "income_flag                      \n",
       "high income        NaN  1.0   inf\n",
       "low income     6.53125  1.0  25.0\n",
       "middle income      NaN  1.0   inf"
      ]
     },
     "execution_count": 20,
     "metadata": {},
     "output_type": "execute_result"
    }
   ],
   "source": [
    "# Aggregating expenditure per income\n",
    "regular_activity_sub.groupby('income_flag').agg({'prices': ['mean', 'min', 'max']})"
   ]
  },
  {
   "cell_type": "code",
   "execution_count": 21,
   "id": "d2bb54d0",
   "metadata": {},
   "outputs": [
    {
     "data": {
      "text/html": [
       "<div>\n",
       "<style scoped>\n",
       "    .dataframe tbody tr th:only-of-type {\n",
       "        vertical-align: middle;\n",
       "    }\n",
       "\n",
       "    .dataframe tbody tr th {\n",
       "        vertical-align: top;\n",
       "    }\n",
       "\n",
       "    .dataframe thead tr th {\n",
       "        text-align: left;\n",
       "    }\n",
       "\n",
       "    .dataframe thead tr:last-of-type th {\n",
       "        text-align: right;\n",
       "    }\n",
       "</style>\n",
       "<table border=\"1\" class=\"dataframe\">\n",
       "  <thead>\n",
       "    <tr>\n",
       "      <th></th>\n",
       "      <th colspan=\"3\" halign=\"left\">days_since_prior_order</th>\n",
       "    </tr>\n",
       "    <tr>\n",
       "      <th></th>\n",
       "      <th>mean</th>\n",
       "      <th>min</th>\n",
       "      <th>max</th>\n",
       "    </tr>\n",
       "    <tr>\n",
       "      <th>dependant_flag</th>\n",
       "      <th></th>\n",
       "      <th></th>\n",
       "      <th></th>\n",
       "    </tr>\n",
       "  </thead>\n",
       "  <tbody>\n",
       "    <tr>\n",
       "      <th>Large Household</th>\n",
       "      <td>63.59375</td>\n",
       "      <td>0.0</td>\n",
       "      <td>999.0</td>\n",
       "    </tr>\n",
       "    <tr>\n",
       "      <th>Middle Household</th>\n",
       "      <td>64.00000</td>\n",
       "      <td>0.0</td>\n",
       "      <td>999.0</td>\n",
       "    </tr>\n",
       "    <tr>\n",
       "      <th>Small Household</th>\n",
       "      <td>63.75000</td>\n",
       "      <td>0.0</td>\n",
       "      <td>999.0</td>\n",
       "    </tr>\n",
       "  </tbody>\n",
       "</table>\n",
       "</div>"
      ],
      "text/plain": [
       "                 days_since_prior_order            \n",
       "                                   mean  min    max\n",
       "dependant_flag                                     \n",
       "Large Household                63.59375  0.0  999.0\n",
       "Middle Household               64.00000  0.0  999.0\n",
       "Small Household                63.75000  0.0  999.0"
      ]
     },
     "execution_count": 21,
     "metadata": {},
     "output_type": "execute_result"
    }
   ],
   "source": [
    "# Aggregating frequency per household size\n",
    "regular_activity_sub.groupby('dependant_flag').agg({'days_since_prior_order': ['mean', 'min', 'max']})"
   ]
  },
  {
   "cell_type": "code",
   "execution_count": 22,
   "id": "ee9a4d76",
   "metadata": {},
   "outputs": [
    {
     "data": {
      "text/html": [
       "<div>\n",
       "<style scoped>\n",
       "    .dataframe tbody tr th:only-of-type {\n",
       "        vertical-align: middle;\n",
       "    }\n",
       "\n",
       "    .dataframe tbody tr th {\n",
       "        vertical-align: top;\n",
       "    }\n",
       "\n",
       "    .dataframe thead tr th {\n",
       "        text-align: left;\n",
       "    }\n",
       "\n",
       "    .dataframe thead tr:last-of-type th {\n",
       "        text-align: right;\n",
       "    }\n",
       "</style>\n",
       "<table border=\"1\" class=\"dataframe\">\n",
       "  <thead>\n",
       "    <tr>\n",
       "      <th></th>\n",
       "      <th colspan=\"3\" halign=\"left\">prices</th>\n",
       "    </tr>\n",
       "    <tr>\n",
       "      <th></th>\n",
       "      <th>mean</th>\n",
       "      <th>min</th>\n",
       "      <th>max</th>\n",
       "    </tr>\n",
       "    <tr>\n",
       "      <th>dependant_flag</th>\n",
       "      <th></th>\n",
       "      <th></th>\n",
       "      <th></th>\n",
       "    </tr>\n",
       "  </thead>\n",
       "  <tbody>\n",
       "    <tr>\n",
       "      <th>Large Household</th>\n",
       "      <td>NaN</td>\n",
       "      <td>1.0</td>\n",
       "      <td>inf</td>\n",
       "    </tr>\n",
       "    <tr>\n",
       "      <th>Middle Household</th>\n",
       "      <td>NaN</td>\n",
       "      <td>1.0</td>\n",
       "      <td>inf</td>\n",
       "    </tr>\n",
       "    <tr>\n",
       "      <th>Small Household</th>\n",
       "      <td>NaN</td>\n",
       "      <td>1.0</td>\n",
       "      <td>inf</td>\n",
       "    </tr>\n",
       "  </tbody>\n",
       "</table>\n",
       "</div>"
      ],
      "text/plain": [
       "                 prices          \n",
       "                   mean  min  max\n",
       "dependant_flag                   \n",
       "Large Household     NaN  1.0  inf\n",
       "Middle Household    NaN  1.0  inf\n",
       "Small Household     NaN  1.0  inf"
      ]
     },
     "execution_count": 22,
     "metadata": {},
     "output_type": "execute_result"
    }
   ],
   "source": [
    "# Aggregating expenditure per household size\n",
    "regular_activity_sub.groupby('dependant_flag').agg({'prices': ['mean', 'min', 'max']})"
   ]
  },
  {
   "cell_type": "code",
   "execution_count": 23,
   "id": "23eadf07",
   "metadata": {},
   "outputs": [
    {
     "data": {
      "text/html": [
       "<div>\n",
       "<style scoped>\n",
       "    .dataframe tbody tr th:only-of-type {\n",
       "        vertical-align: middle;\n",
       "    }\n",
       "\n",
       "    .dataframe tbody tr th {\n",
       "        vertical-align: top;\n",
       "    }\n",
       "\n",
       "    .dataframe thead tr th {\n",
       "        text-align: left;\n",
       "    }\n",
       "\n",
       "    .dataframe thead tr:last-of-type th {\n",
       "        text-align: right;\n",
       "    }\n",
       "</style>\n",
       "<table border=\"1\" class=\"dataframe\">\n",
       "  <thead>\n",
       "    <tr>\n",
       "      <th></th>\n",
       "      <th colspan=\"3\" halign=\"left\">days_since_prior_order</th>\n",
       "    </tr>\n",
       "    <tr>\n",
       "      <th></th>\n",
       "      <th>mean</th>\n",
       "      <th>min</th>\n",
       "      <th>max</th>\n",
       "    </tr>\n",
       "    <tr>\n",
       "      <th>baby_flag</th>\n",
       "      <th></th>\n",
       "      <th></th>\n",
       "      <th></th>\n",
       "    </tr>\n",
       "  </thead>\n",
       "  <tbody>\n",
       "    <tr>\n",
       "      <th>No Child</th>\n",
       "      <td>63.75000</td>\n",
       "      <td>0.0</td>\n",
       "      <td>999.0</td>\n",
       "    </tr>\n",
       "    <tr>\n",
       "      <th>Older Child</th>\n",
       "      <td>63.96875</td>\n",
       "      <td>0.0</td>\n",
       "      <td>999.0</td>\n",
       "    </tr>\n",
       "    <tr>\n",
       "      <th>Young Child</th>\n",
       "      <td>54.34375</td>\n",
       "      <td>0.0</td>\n",
       "      <td>999.0</td>\n",
       "    </tr>\n",
       "  </tbody>\n",
       "</table>\n",
       "</div>"
      ],
      "text/plain": [
       "            days_since_prior_order            \n",
       "                              mean  min    max\n",
       "baby_flag                                     \n",
       "No Child                  63.75000  0.0  999.0\n",
       "Older Child               63.96875  0.0  999.0\n",
       "Young Child               54.34375  0.0  999.0"
      ]
     },
     "execution_count": 23,
     "metadata": {},
     "output_type": "execute_result"
    }
   ],
   "source": [
    "# Aggregating frequency per child age\n",
    "regular_activity_sub.groupby('baby_flag').agg({'days_since_prior_order': ['mean', 'min', 'max']})"
   ]
  },
  {
   "cell_type": "code",
   "execution_count": 24,
   "id": "a2f4bdf6",
   "metadata": {},
   "outputs": [
    {
     "data": {
      "text/html": [
       "<div>\n",
       "<style scoped>\n",
       "    .dataframe tbody tr th:only-of-type {\n",
       "        vertical-align: middle;\n",
       "    }\n",
       "\n",
       "    .dataframe tbody tr th {\n",
       "        vertical-align: top;\n",
       "    }\n",
       "\n",
       "    .dataframe thead tr th {\n",
       "        text-align: left;\n",
       "    }\n",
       "\n",
       "    .dataframe thead tr:last-of-type th {\n",
       "        text-align: right;\n",
       "    }\n",
       "</style>\n",
       "<table border=\"1\" class=\"dataframe\">\n",
       "  <thead>\n",
       "    <tr>\n",
       "      <th></th>\n",
       "      <th colspan=\"3\" halign=\"left\">prices</th>\n",
       "    </tr>\n",
       "    <tr>\n",
       "      <th></th>\n",
       "      <th>mean</th>\n",
       "      <th>min</th>\n",
       "      <th>max</th>\n",
       "    </tr>\n",
       "    <tr>\n",
       "      <th>baby_flag</th>\n",
       "      <th></th>\n",
       "      <th></th>\n",
       "      <th></th>\n",
       "    </tr>\n",
       "  </thead>\n",
       "  <tbody>\n",
       "    <tr>\n",
       "      <th>No Child</th>\n",
       "      <td>NaN</td>\n",
       "      <td>1.0</td>\n",
       "      <td>inf</td>\n",
       "    </tr>\n",
       "    <tr>\n",
       "      <th>Older Child</th>\n",
       "      <td>NaN</td>\n",
       "      <td>1.0</td>\n",
       "      <td>inf</td>\n",
       "    </tr>\n",
       "    <tr>\n",
       "      <th>Young Child</th>\n",
       "      <td>7.648438</td>\n",
       "      <td>1.0</td>\n",
       "      <td>15.0</td>\n",
       "    </tr>\n",
       "  </tbody>\n",
       "</table>\n",
       "</div>"
      ],
      "text/plain": [
       "               prices           \n",
       "                 mean  min   max\n",
       "baby_flag                       \n",
       "No Child          NaN  1.0   inf\n",
       "Older Child       NaN  1.0   inf\n",
       "Young Child  7.648438  1.0  15.0"
      ]
     },
     "execution_count": 24,
     "metadata": {},
     "output_type": "execute_result"
    }
   ],
   "source": [
    "# Aggregating expenditure per child age\n",
    "regular_activity_sub.groupby('baby_flag').agg({'prices': ['mean', 'min', 'max']})"
   ]
  },
  {
   "cell_type": "markdown",
   "id": "500bc972",
   "metadata": {},
   "source": [
    "## 4.10 Question 8 "
   ]
  },
  {
   "cell_type": "code",
   "execution_count": 25,
   "id": "2e7036df",
   "metadata": {},
   "outputs": [],
   "source": [
    "# Importing departments dataframe\n",
    "dept_df = pd.read_csv(os.path.join(path, '02 Data', 'Prepared Data', 'departments_wrangled.csv'))"
   ]
  },
  {
   "cell_type": "code",
   "execution_count": 26,
   "id": "772d1417",
   "metadata": {},
   "outputs": [
    {
     "data": {
      "text/html": [
       "<div>\n",
       "<style scoped>\n",
       "    .dataframe tbody tr th:only-of-type {\n",
       "        vertical-align: middle;\n",
       "    }\n",
       "\n",
       "    .dataframe tbody tr th {\n",
       "        vertical-align: top;\n",
       "    }\n",
       "\n",
       "    .dataframe thead th {\n",
       "        text-align: right;\n",
       "    }\n",
       "</style>\n",
       "<table border=\"1\" class=\"dataframe\">\n",
       "  <thead>\n",
       "    <tr style=\"text-align: right;\">\n",
       "      <th></th>\n",
       "      <th>Unnamed: 0</th>\n",
       "      <th>department</th>\n",
       "    </tr>\n",
       "  </thead>\n",
       "  <tbody>\n",
       "    <tr>\n",
       "      <th>0</th>\n",
       "      <td>1</td>\n",
       "      <td>frozen</td>\n",
       "    </tr>\n",
       "    <tr>\n",
       "      <th>1</th>\n",
       "      <td>2</td>\n",
       "      <td>other</td>\n",
       "    </tr>\n",
       "    <tr>\n",
       "      <th>2</th>\n",
       "      <td>3</td>\n",
       "      <td>bakery</td>\n",
       "    </tr>\n",
       "    <tr>\n",
       "      <th>3</th>\n",
       "      <td>4</td>\n",
       "      <td>produce</td>\n",
       "    </tr>\n",
       "    <tr>\n",
       "      <th>4</th>\n",
       "      <td>5</td>\n",
       "      <td>alcohol</td>\n",
       "    </tr>\n",
       "    <tr>\n",
       "      <th>5</th>\n",
       "      <td>6</td>\n",
       "      <td>international</td>\n",
       "    </tr>\n",
       "    <tr>\n",
       "      <th>6</th>\n",
       "      <td>7</td>\n",
       "      <td>beverages</td>\n",
       "    </tr>\n",
       "    <tr>\n",
       "      <th>7</th>\n",
       "      <td>8</td>\n",
       "      <td>pets</td>\n",
       "    </tr>\n",
       "    <tr>\n",
       "      <th>8</th>\n",
       "      <td>9</td>\n",
       "      <td>dry goods pasta</td>\n",
       "    </tr>\n",
       "    <tr>\n",
       "      <th>9</th>\n",
       "      <td>10</td>\n",
       "      <td>bulk</td>\n",
       "    </tr>\n",
       "    <tr>\n",
       "      <th>10</th>\n",
       "      <td>11</td>\n",
       "      <td>personal care</td>\n",
       "    </tr>\n",
       "    <tr>\n",
       "      <th>11</th>\n",
       "      <td>12</td>\n",
       "      <td>meat seafood</td>\n",
       "    </tr>\n",
       "    <tr>\n",
       "      <th>12</th>\n",
       "      <td>13</td>\n",
       "      <td>pantry</td>\n",
       "    </tr>\n",
       "    <tr>\n",
       "      <th>13</th>\n",
       "      <td>14</td>\n",
       "      <td>breakfast</td>\n",
       "    </tr>\n",
       "    <tr>\n",
       "      <th>14</th>\n",
       "      <td>15</td>\n",
       "      <td>canned goods</td>\n",
       "    </tr>\n",
       "    <tr>\n",
       "      <th>15</th>\n",
       "      <td>16</td>\n",
       "      <td>dairy eggs</td>\n",
       "    </tr>\n",
       "    <tr>\n",
       "      <th>16</th>\n",
       "      <td>17</td>\n",
       "      <td>household</td>\n",
       "    </tr>\n",
       "    <tr>\n",
       "      <th>17</th>\n",
       "      <td>18</td>\n",
       "      <td>babies</td>\n",
       "    </tr>\n",
       "    <tr>\n",
       "      <th>18</th>\n",
       "      <td>19</td>\n",
       "      <td>snacks</td>\n",
       "    </tr>\n",
       "    <tr>\n",
       "      <th>19</th>\n",
       "      <td>20</td>\n",
       "      <td>deli</td>\n",
       "    </tr>\n",
       "    <tr>\n",
       "      <th>20</th>\n",
       "      <td>21</td>\n",
       "      <td>missing</td>\n",
       "    </tr>\n",
       "  </tbody>\n",
       "</table>\n",
       "</div>"
      ],
      "text/plain": [
       "    Unnamed: 0       department\n",
       "0            1           frozen\n",
       "1            2            other\n",
       "2            3           bakery\n",
       "3            4          produce\n",
       "4            5          alcohol\n",
       "5            6    international\n",
       "6            7        beverages\n",
       "7            8             pets\n",
       "8            9  dry goods pasta\n",
       "9           10             bulk\n",
       "10          11    personal care\n",
       "11          12     meat seafood\n",
       "12          13           pantry\n",
       "13          14        breakfast\n",
       "14          15     canned goods\n",
       "15          16       dairy eggs\n",
       "16          17        household\n",
       "17          18           babies\n",
       "18          19           snacks\n",
       "19          20             deli\n",
       "20          21          missing"
      ]
     },
     "execution_count": 26,
     "metadata": {},
     "output_type": "execute_result"
    }
   ],
   "source": [
    "dept_df"
   ]
  },
  {
   "cell_type": "code",
   "execution_count": 27,
   "id": "2d6c5d5c",
   "metadata": {},
   "outputs": [],
   "source": [
    "# Renaming column\n",
    "dept_df.rename(columns ={'Unnamed: 0': 'department_id'}, inplace = True)"
   ]
  },
  {
   "cell_type": "code",
   "execution_count": 28,
   "id": "6392c759",
   "metadata": {},
   "outputs": [
    {
     "data": {
      "text/plain": [
       "{1: 'frozen',\n",
       " 2: 'other',\n",
       " 3: 'bakery',\n",
       " 4: 'produce',\n",
       " 5: 'alcohol',\n",
       " 6: 'international',\n",
       " 7: 'beverages',\n",
       " 8: 'pets',\n",
       " 9: 'dry goods pasta',\n",
       " 10: 'bulk',\n",
       " 11: 'personal care',\n",
       " 12: 'meat seafood',\n",
       " 13: 'pantry',\n",
       " 14: 'breakfast',\n",
       " 15: 'canned goods',\n",
       " 16: 'dairy eggs',\n",
       " 17: 'household',\n",
       " 18: 'babies',\n",
       " 19: 'snacks',\n",
       " 20: 'deli',\n",
       " 21: 'missing'}"
      ]
     },
     "execution_count": 28,
     "metadata": {},
     "output_type": "execute_result"
    }
   ],
   "source": [
    "# Creating data dictionary for dataframe\n",
    "zipped=zip(dept_df['department_id'], dept_df['department'])\n",
    "data_dict=dict(zipped)\n",
    "data_dict"
   ]
  },
  {
   "cell_type": "code",
   "execution_count": 29,
   "id": "185baf42",
   "metadata": {},
   "outputs": [],
   "source": [
    "regular_activity_sub['department']= regular_activity_sub['department_id'].map(data_dict)"
   ]
  },
  {
   "cell_type": "code",
   "execution_count": 30,
   "id": "ddf98549",
   "metadata": {},
   "outputs": [
    {
     "data": {
      "text/html": [
       "<div>\n",
       "<style scoped>\n",
       "    .dataframe tbody tr th:only-of-type {\n",
       "        vertical-align: middle;\n",
       "    }\n",
       "\n",
       "    .dataframe tbody tr th {\n",
       "        vertical-align: top;\n",
       "    }\n",
       "\n",
       "    .dataframe thead th {\n",
       "        text-align: right;\n",
       "    }\n",
       "</style>\n",
       "<table border=\"1\" class=\"dataframe\">\n",
       "  <thead>\n",
       "    <tr style=\"text-align: right;\">\n",
       "      <th></th>\n",
       "      <th>order_id</th>\n",
       "      <th>user_id</th>\n",
       "      <th>amount_of_orders_made</th>\n",
       "      <th>order_day_of_week</th>\n",
       "      <th>order_hour_of_day</th>\n",
       "      <th>days_since_prior_order</th>\n",
       "      <th>product_id</th>\n",
       "      <th>add_to_cart_order</th>\n",
       "      <th>reordered</th>\n",
       "      <th>product_name</th>\n",
       "      <th>...</th>\n",
       "      <th>fam_status</th>\n",
       "      <th>income</th>\n",
       "      <th>_merge</th>\n",
       "      <th>region</th>\n",
       "      <th>exclusion_flag</th>\n",
       "      <th>age_flag</th>\n",
       "      <th>income_flag</th>\n",
       "      <th>dependant_flag</th>\n",
       "      <th>baby_flag</th>\n",
       "      <th>department</th>\n",
       "    </tr>\n",
       "  </thead>\n",
       "  <tbody>\n",
       "    <tr>\n",
       "      <th>0</th>\n",
       "      <td>2539329</td>\n",
       "      <td>1</td>\n",
       "      <td>1</td>\n",
       "      <td>2</td>\n",
       "      <td>8</td>\n",
       "      <td>999.0</td>\n",
       "      <td>196</td>\n",
       "      <td>1</td>\n",
       "      <td>0</td>\n",
       "      <td>Soda</td>\n",
       "      <td>...</td>\n",
       "      <td>married</td>\n",
       "      <td>40423</td>\n",
       "      <td>both</td>\n",
       "      <td>South</td>\n",
       "      <td>Regular activity customer</td>\n",
       "      <td>Middle Age</td>\n",
       "      <td>middle income</td>\n",
       "      <td>Large Household</td>\n",
       "      <td>Older Child</td>\n",
       "      <td>beverages</td>\n",
       "    </tr>\n",
       "    <tr>\n",
       "      <th>1</th>\n",
       "      <td>2398795</td>\n",
       "      <td>1</td>\n",
       "      <td>2</td>\n",
       "      <td>3</td>\n",
       "      <td>7</td>\n",
       "      <td>15.0</td>\n",
       "      <td>196</td>\n",
       "      <td>1</td>\n",
       "      <td>1</td>\n",
       "      <td>Soda</td>\n",
       "      <td>...</td>\n",
       "      <td>married</td>\n",
       "      <td>40423</td>\n",
       "      <td>both</td>\n",
       "      <td>South</td>\n",
       "      <td>Regular activity customer</td>\n",
       "      <td>Middle Age</td>\n",
       "      <td>middle income</td>\n",
       "      <td>Large Household</td>\n",
       "      <td>Older Child</td>\n",
       "      <td>beverages</td>\n",
       "    </tr>\n",
       "    <tr>\n",
       "      <th>2</th>\n",
       "      <td>473747</td>\n",
       "      <td>1</td>\n",
       "      <td>3</td>\n",
       "      <td>3</td>\n",
       "      <td>12</td>\n",
       "      <td>21.0</td>\n",
       "      <td>196</td>\n",
       "      <td>1</td>\n",
       "      <td>1</td>\n",
       "      <td>Soda</td>\n",
       "      <td>...</td>\n",
       "      <td>married</td>\n",
       "      <td>40423</td>\n",
       "      <td>both</td>\n",
       "      <td>South</td>\n",
       "      <td>Regular activity customer</td>\n",
       "      <td>Middle Age</td>\n",
       "      <td>middle income</td>\n",
       "      <td>Large Household</td>\n",
       "      <td>Older Child</td>\n",
       "      <td>beverages</td>\n",
       "    </tr>\n",
       "    <tr>\n",
       "      <th>3</th>\n",
       "      <td>2254736</td>\n",
       "      <td>1</td>\n",
       "      <td>4</td>\n",
       "      <td>4</td>\n",
       "      <td>7</td>\n",
       "      <td>29.0</td>\n",
       "      <td>196</td>\n",
       "      <td>1</td>\n",
       "      <td>1</td>\n",
       "      <td>Soda</td>\n",
       "      <td>...</td>\n",
       "      <td>married</td>\n",
       "      <td>40423</td>\n",
       "      <td>both</td>\n",
       "      <td>South</td>\n",
       "      <td>Regular activity customer</td>\n",
       "      <td>Middle Age</td>\n",
       "      <td>middle income</td>\n",
       "      <td>Large Household</td>\n",
       "      <td>Older Child</td>\n",
       "      <td>beverages</td>\n",
       "    </tr>\n",
       "    <tr>\n",
       "      <th>4</th>\n",
       "      <td>431534</td>\n",
       "      <td>1</td>\n",
       "      <td>5</td>\n",
       "      <td>4</td>\n",
       "      <td>15</td>\n",
       "      <td>28.0</td>\n",
       "      <td>196</td>\n",
       "      <td>1</td>\n",
       "      <td>1</td>\n",
       "      <td>Soda</td>\n",
       "      <td>...</td>\n",
       "      <td>married</td>\n",
       "      <td>40423</td>\n",
       "      <td>both</td>\n",
       "      <td>South</td>\n",
       "      <td>Regular activity customer</td>\n",
       "      <td>Middle Age</td>\n",
       "      <td>middle income</td>\n",
       "      <td>Large Household</td>\n",
       "      <td>Older Child</td>\n",
       "      <td>beverages</td>\n",
       "    </tr>\n",
       "  </tbody>\n",
       "</table>\n",
       "<p>5 rows × 41 columns</p>\n",
       "</div>"
      ],
      "text/plain": [
       "   order_id  user_id  amount_of_orders_made  order_day_of_week  \\\n",
       "0   2539329        1                      1                  2   \n",
       "1   2398795        1                      2                  3   \n",
       "2    473747        1                      3                  3   \n",
       "3   2254736        1                      4                  4   \n",
       "4    431534        1                      5                  4   \n",
       "\n",
       "   order_hour_of_day  days_since_prior_order  product_id  add_to_cart_order  \\\n",
       "0                  8                   999.0         196                  1   \n",
       "1                  7                    15.0         196                  1   \n",
       "2                 12                    21.0         196                  1   \n",
       "3                  7                    29.0         196                  1   \n",
       "4                 15                    28.0         196                  1   \n",
       "\n",
       "   reordered product_name  ...  fam_status  income  _merge region  \\\n",
       "0          0         Soda  ...     married   40423    both  South   \n",
       "1          1         Soda  ...     married   40423    both  South   \n",
       "2          1         Soda  ...     married   40423    both  South   \n",
       "3          1         Soda  ...     married   40423    both  South   \n",
       "4          1         Soda  ...     married   40423    both  South   \n",
       "\n",
       "              exclusion_flag    age_flag    income_flag   dependant_flag  \\\n",
       "0  Regular activity customer  Middle Age  middle income  Large Household   \n",
       "1  Regular activity customer  Middle Age  middle income  Large Household   \n",
       "2  Regular activity customer  Middle Age  middle income  Large Household   \n",
       "3  Regular activity customer  Middle Age  middle income  Large Household   \n",
       "4  Regular activity customer  Middle Age  middle income  Large Household   \n",
       "\n",
       "     baby_flag  department  \n",
       "0  Older Child   beverages  \n",
       "1  Older Child   beverages  \n",
       "2  Older Child   beverages  \n",
       "3  Older Child   beverages  \n",
       "4  Older Child   beverages  \n",
       "\n",
       "[5 rows x 41 columns]"
      ]
     },
     "execution_count": 30,
     "metadata": {},
     "output_type": "execute_result"
    }
   ],
   "source": [
    "regular_activity_sub.head(5)"
   ]
  },
  {
   "cell_type": "code",
   "execution_count": 31,
   "id": "a4514439",
   "metadata": {},
   "outputs": [],
   "source": [
    "# Creating crosstab between age and region\n",
    "age_region = pd.crosstab(regular_activity_sub['age_flag'], regular_activity_sub['region'], dropna = False)"
   ]
  },
  {
   "cell_type": "code",
   "execution_count": 32,
   "id": "fd27689f",
   "metadata": {},
   "outputs": [
    {
     "data": {
      "text/html": [
       "<div>\n",
       "<style scoped>\n",
       "    .dataframe tbody tr th:only-of-type {\n",
       "        vertical-align: middle;\n",
       "    }\n",
       "\n",
       "    .dataframe tbody tr th {\n",
       "        vertical-align: top;\n",
       "    }\n",
       "\n",
       "    .dataframe thead th {\n",
       "        text-align: right;\n",
       "    }\n",
       "</style>\n",
       "<table border=\"1\" class=\"dataframe\">\n",
       "  <thead>\n",
       "    <tr style=\"text-align: right;\">\n",
       "      <th>region</th>\n",
       "      <th>Midwest</th>\n",
       "      <th>North_East</th>\n",
       "      <th>South</th>\n",
       "      <th>West</th>\n",
       "    </tr>\n",
       "    <tr>\n",
       "      <th>age_flag</th>\n",
       "      <th></th>\n",
       "      <th></th>\n",
       "      <th></th>\n",
       "      <th></th>\n",
       "    </tr>\n",
       "  </thead>\n",
       "  <tbody>\n",
       "    <tr>\n",
       "      <th>Middle Age</th>\n",
       "      <td>2886186</td>\n",
       "      <td>2119320</td>\n",
       "      <td>3795247</td>\n",
       "      <td>3351273</td>\n",
       "    </tr>\n",
       "    <tr>\n",
       "      <th>Old</th>\n",
       "      <td>2914280</td>\n",
       "      <td>2233889</td>\n",
       "      <td>3905171</td>\n",
       "      <td>3454958</td>\n",
       "    </tr>\n",
       "    <tr>\n",
       "      <th>Young</th>\n",
       "      <td>1461047</td>\n",
       "      <td>1111476</td>\n",
       "      <td>2001367</td>\n",
       "      <td>1730350</td>\n",
       "    </tr>\n",
       "  </tbody>\n",
       "</table>\n",
       "</div>"
      ],
      "text/plain": [
       "region      Midwest  North_East    South     West\n",
       "age_flag                                         \n",
       "Middle Age  2886186     2119320  3795247  3351273\n",
       "Old         2914280     2233889  3905171  3454958\n",
       "Young       1461047     1111476  2001367  1730350"
      ]
     },
     "execution_count": 32,
     "metadata": {},
     "output_type": "execute_result"
    }
   ],
   "source": [
    "age_region"
   ]
  },
  {
   "cell_type": "code",
   "execution_count": 41,
   "id": "5696144d",
   "metadata": {},
   "outputs": [],
   "source": [
    "# Creating crosstab between age and department\n",
    "age_department = pd.crosstab(regular_activity_sub['department'], regular_activity_sub['age_flag'], dropna = False)"
   ]
  },
  {
   "cell_type": "code",
   "execution_count": 42,
   "id": "6a578a0b",
   "metadata": {
    "scrolled": true
   },
   "outputs": [
    {
     "data": {
      "text/html": [
       "<div>\n",
       "<style scoped>\n",
       "    .dataframe tbody tr th:only-of-type {\n",
       "        vertical-align: middle;\n",
       "    }\n",
       "\n",
       "    .dataframe tbody tr th {\n",
       "        vertical-align: top;\n",
       "    }\n",
       "\n",
       "    .dataframe thead th {\n",
       "        text-align: right;\n",
       "    }\n",
       "</style>\n",
       "<table border=\"1\" class=\"dataframe\">\n",
       "  <thead>\n",
       "    <tr style=\"text-align: right;\">\n",
       "      <th>age_flag</th>\n",
       "      <th>Middle Age</th>\n",
       "      <th>Old</th>\n",
       "      <th>Young</th>\n",
       "    </tr>\n",
       "    <tr>\n",
       "      <th>department</th>\n",
       "      <th></th>\n",
       "      <th></th>\n",
       "      <th></th>\n",
       "    </tr>\n",
       "  </thead>\n",
       "  <tbody>\n",
       "    <tr>\n",
       "      <th>alcohol</th>\n",
       "      <td>56853</td>\n",
       "      <td>57339</td>\n",
       "      <td>30435</td>\n",
       "    </tr>\n",
       "    <tr>\n",
       "      <th>babies</th>\n",
       "      <td>163431</td>\n",
       "      <td>162891</td>\n",
       "      <td>84070</td>\n",
       "    </tr>\n",
       "    <tr>\n",
       "      <th>bakery</th>\n",
       "      <td>440918</td>\n",
       "      <td>452315</td>\n",
       "      <td>227595</td>\n",
       "    </tr>\n",
       "    <tr>\n",
       "      <th>beverages</th>\n",
       "      <td>1006059</td>\n",
       "      <td>1046601</td>\n",
       "      <td>519241</td>\n",
       "    </tr>\n",
       "    <tr>\n",
       "      <th>breakfast</th>\n",
       "      <td>264469</td>\n",
       "      <td>268746</td>\n",
       "      <td>137635</td>\n",
       "    </tr>\n",
       "    <tr>\n",
       "      <th>bulk</th>\n",
       "      <td>13037</td>\n",
       "      <td>13454</td>\n",
       "      <td>6960</td>\n",
       "    </tr>\n",
       "    <tr>\n",
       "      <th>canned goods</th>\n",
       "      <td>395915</td>\n",
       "      <td>407915</td>\n",
       "      <td>208244</td>\n",
       "    </tr>\n",
       "    <tr>\n",
       "      <th>dairy eggs</th>\n",
       "      <td>2036745</td>\n",
       "      <td>2084161</td>\n",
       "      <td>1056276</td>\n",
       "    </tr>\n",
       "    <tr>\n",
       "      <th>deli</th>\n",
       "      <td>393923</td>\n",
       "      <td>406158</td>\n",
       "      <td>203753</td>\n",
       "    </tr>\n",
       "    <tr>\n",
       "      <th>dry goods pasta</th>\n",
       "      <td>321372</td>\n",
       "      <td>331656</td>\n",
       "      <td>169108</td>\n",
       "    </tr>\n",
       "    <tr>\n",
       "      <th>frozen</th>\n",
       "      <td>829513</td>\n",
       "      <td>860897</td>\n",
       "      <td>431321</td>\n",
       "    </tr>\n",
       "    <tr>\n",
       "      <th>household</th>\n",
       "      <td>274289</td>\n",
       "      <td>283752</td>\n",
       "      <td>141816</td>\n",
       "    </tr>\n",
       "    <tr>\n",
       "      <th>international</th>\n",
       "      <td>101143</td>\n",
       "      <td>102125</td>\n",
       "      <td>52723</td>\n",
       "    </tr>\n",
       "    <tr>\n",
       "      <th>meat seafood</th>\n",
       "      <td>262484</td>\n",
       "      <td>275399</td>\n",
       "      <td>136898</td>\n",
       "    </tr>\n",
       "    <tr>\n",
       "      <th>missing</th>\n",
       "      <td>25468</td>\n",
       "      <td>25621</td>\n",
       "      <td>13679</td>\n",
       "    </tr>\n",
       "    <tr>\n",
       "      <th>other</th>\n",
       "      <td>13311</td>\n",
       "      <td>13690</td>\n",
       "      <td>7410</td>\n",
       "    </tr>\n",
       "    <tr>\n",
       "      <th>pantry</th>\n",
       "      <td>699233</td>\n",
       "      <td>721611</td>\n",
       "      <td>361861</td>\n",
       "    </tr>\n",
       "    <tr>\n",
       "      <th>personal care</th>\n",
       "      <td>166581</td>\n",
       "      <td>171047</td>\n",
       "      <td>86678</td>\n",
       "    </tr>\n",
       "    <tr>\n",
       "      <th>pets</th>\n",
       "      <td>35330</td>\n",
       "      <td>38135</td>\n",
       "      <td>19595</td>\n",
       "    </tr>\n",
       "    <tr>\n",
       "      <th>produce</th>\n",
       "      <td>3564971</td>\n",
       "      <td>3671077</td>\n",
       "      <td>1843225</td>\n",
       "    </tr>\n",
       "    <tr>\n",
       "      <th>snacks</th>\n",
       "      <td>1086981</td>\n",
       "      <td>1113708</td>\n",
       "      <td>565717</td>\n",
       "    </tr>\n",
       "  </tbody>\n",
       "</table>\n",
       "</div>"
      ],
      "text/plain": [
       "age_flag         Middle Age      Old    Young\n",
       "department                                   \n",
       "alcohol               56853    57339    30435\n",
       "babies               163431   162891    84070\n",
       "bakery               440918   452315   227595\n",
       "beverages           1006059  1046601   519241\n",
       "breakfast            264469   268746   137635\n",
       "bulk                  13037    13454     6960\n",
       "canned goods         395915   407915   208244\n",
       "dairy eggs          2036745  2084161  1056276\n",
       "deli                 393923   406158   203753\n",
       "dry goods pasta      321372   331656   169108\n",
       "frozen               829513   860897   431321\n",
       "household            274289   283752   141816\n",
       "international        101143   102125    52723\n",
       "meat seafood         262484   275399   136898\n",
       "missing               25468    25621    13679\n",
       "other                 13311    13690     7410\n",
       "pantry               699233   721611   361861\n",
       "personal care        166581   171047    86678\n",
       "pets                  35330    38135    19595\n",
       "produce             3564971  3671077  1843225\n",
       "snacks              1086981  1113708   565717"
      ]
     },
     "execution_count": 42,
     "metadata": {},
     "output_type": "execute_result"
    }
   ],
   "source": [
    "age_department"
   ]
  },
  {
   "cell_type": "code",
   "execution_count": 43,
   "id": "c69f6b42",
   "metadata": {},
   "outputs": [],
   "source": [
    "# Creating crosstab between income and region\n",
    "income_region = pd.crosstab(regular_activity_sub['income_flag'], regular_activity_sub['region'], dropna = False)"
   ]
  },
  {
   "cell_type": "code",
   "execution_count": 44,
   "id": "0bf466bf",
   "metadata": {},
   "outputs": [
    {
     "data": {
      "text/html": [
       "<div>\n",
       "<style scoped>\n",
       "    .dataframe tbody tr th:only-of-type {\n",
       "        vertical-align: middle;\n",
       "    }\n",
       "\n",
       "    .dataframe tbody tr th {\n",
       "        vertical-align: top;\n",
       "    }\n",
       "\n",
       "    .dataframe thead th {\n",
       "        text-align: right;\n",
       "    }\n",
       "</style>\n",
       "<table border=\"1\" class=\"dataframe\">\n",
       "  <thead>\n",
       "    <tr style=\"text-align: right;\">\n",
       "      <th>region</th>\n",
       "      <th>Midwest</th>\n",
       "      <th>North_East</th>\n",
       "      <th>South</th>\n",
       "      <th>West</th>\n",
       "    </tr>\n",
       "    <tr>\n",
       "      <th>income_flag</th>\n",
       "      <th></th>\n",
       "      <th></th>\n",
       "      <th></th>\n",
       "      <th></th>\n",
       "    </tr>\n",
       "  </thead>\n",
       "  <tbody>\n",
       "    <tr>\n",
       "      <th>high income</th>\n",
       "      <td>3400093</td>\n",
       "      <td>2516484</td>\n",
       "      <td>4388131</td>\n",
       "      <td>3902320</td>\n",
       "    </tr>\n",
       "    <tr>\n",
       "      <th>low income</th>\n",
       "      <td>53250</td>\n",
       "      <td>33075</td>\n",
       "      <td>62453</td>\n",
       "      <td>45092</td>\n",
       "    </tr>\n",
       "    <tr>\n",
       "      <th>middle income</th>\n",
       "      <td>3808170</td>\n",
       "      <td>2915126</td>\n",
       "      <td>5251201</td>\n",
       "      <td>4589169</td>\n",
       "    </tr>\n",
       "  </tbody>\n",
       "</table>\n",
       "</div>"
      ],
      "text/plain": [
       "region         Midwest  North_East    South     West\n",
       "income_flag                                         \n",
       "high income    3400093     2516484  4388131  3902320\n",
       "low income       53250       33075    62453    45092\n",
       "middle income  3808170     2915126  5251201  4589169"
      ]
     },
     "execution_count": 44,
     "metadata": {},
     "output_type": "execute_result"
    }
   ],
   "source": [
    "income_region"
   ]
  },
  {
   "cell_type": "code",
   "execution_count": 45,
   "id": "d8d7ec69",
   "metadata": {},
   "outputs": [],
   "source": [
    "# Creating crosstab between income and department\n",
    "income_department = pd.crosstab(regular_activity_sub['department'], regular_activity_sub['income_flag'], dropna = False)"
   ]
  },
  {
   "cell_type": "code",
   "execution_count": 46,
   "id": "865cc263",
   "metadata": {},
   "outputs": [
    {
     "data": {
      "text/html": [
       "<div>\n",
       "<style scoped>\n",
       "    .dataframe tbody tr th:only-of-type {\n",
       "        vertical-align: middle;\n",
       "    }\n",
       "\n",
       "    .dataframe tbody tr th {\n",
       "        vertical-align: top;\n",
       "    }\n",
       "\n",
       "    .dataframe thead th {\n",
       "        text-align: right;\n",
       "    }\n",
       "</style>\n",
       "<table border=\"1\" class=\"dataframe\">\n",
       "  <thead>\n",
       "    <tr style=\"text-align: right;\">\n",
       "      <th>income_flag</th>\n",
       "      <th>high income</th>\n",
       "      <th>low income</th>\n",
       "      <th>middle income</th>\n",
       "    </tr>\n",
       "    <tr>\n",
       "      <th>department</th>\n",
       "      <th></th>\n",
       "      <th></th>\n",
       "      <th></th>\n",
       "    </tr>\n",
       "  </thead>\n",
       "  <tbody>\n",
       "    <tr>\n",
       "      <th>alcohol</th>\n",
       "      <td>69142</td>\n",
       "      <td>1247</td>\n",
       "      <td>74238</td>\n",
       "    </tr>\n",
       "    <tr>\n",
       "      <th>babies</th>\n",
       "      <td>196696</td>\n",
       "      <td>1509</td>\n",
       "      <td>212187</td>\n",
       "    </tr>\n",
       "    <tr>\n",
       "      <th>bakery</th>\n",
       "      <td>527703</td>\n",
       "      <td>6001</td>\n",
       "      <td>587124</td>\n",
       "    </tr>\n",
       "    <tr>\n",
       "      <th>beverages</th>\n",
       "      <td>1126437</td>\n",
       "      <td>23377</td>\n",
       "      <td>1422087</td>\n",
       "    </tr>\n",
       "    <tr>\n",
       "      <th>breakfast</th>\n",
       "      <td>297594</td>\n",
       "      <td>4801</td>\n",
       "      <td>368455</td>\n",
       "    </tr>\n",
       "    <tr>\n",
       "      <th>bulk</th>\n",
       "      <td>14218</td>\n",
       "      <td>333</td>\n",
       "      <td>18900</td>\n",
       "    </tr>\n",
       "    <tr>\n",
       "      <th>canned goods</th>\n",
       "      <td>485226</td>\n",
       "      <td>4190</td>\n",
       "      <td>522658</td>\n",
       "    </tr>\n",
       "    <tr>\n",
       "      <th>dairy eggs</th>\n",
       "      <td>2406160</td>\n",
       "      <td>28367</td>\n",
       "      <td>2742655</td>\n",
       "    </tr>\n",
       "    <tr>\n",
       "      <th>deli</th>\n",
       "      <td>462089</td>\n",
       "      <td>6501</td>\n",
       "      <td>535244</td>\n",
       "    </tr>\n",
       "    <tr>\n",
       "      <th>dry goods pasta</th>\n",
       "      <td>392709</td>\n",
       "      <td>3938</td>\n",
       "      <td>425489</td>\n",
       "    </tr>\n",
       "    <tr>\n",
       "      <th>frozen</th>\n",
       "      <td>988452</td>\n",
       "      <td>12769</td>\n",
       "      <td>1120510</td>\n",
       "    </tr>\n",
       "    <tr>\n",
       "      <th>household</th>\n",
       "      <td>319958</td>\n",
       "      <td>4726</td>\n",
       "      <td>375173</td>\n",
       "    </tr>\n",
       "    <tr>\n",
       "      <th>international</th>\n",
       "      <td>119987</td>\n",
       "      <td>1375</td>\n",
       "      <td>134629</td>\n",
       "    </tr>\n",
       "    <tr>\n",
       "      <th>meat seafood</th>\n",
       "      <td>335535</td>\n",
       "      <td>1565</td>\n",
       "      <td>337681</td>\n",
       "    </tr>\n",
       "    <tr>\n",
       "      <th>missing</th>\n",
       "      <td>29452</td>\n",
       "      <td>395</td>\n",
       "      <td>34921</td>\n",
       "    </tr>\n",
       "    <tr>\n",
       "      <th>other</th>\n",
       "      <td>15749</td>\n",
       "      <td>288</td>\n",
       "      <td>18374</td>\n",
       "    </tr>\n",
       "    <tr>\n",
       "      <th>pantry</th>\n",
       "      <td>839920</td>\n",
       "      <td>8716</td>\n",
       "      <td>934069</td>\n",
       "    </tr>\n",
       "    <tr>\n",
       "      <th>personal care</th>\n",
       "      <td>193412</td>\n",
       "      <td>2454</td>\n",
       "      <td>228440</td>\n",
       "    </tr>\n",
       "    <tr>\n",
       "      <th>pets</th>\n",
       "      <td>45089</td>\n",
       "      <td>448</td>\n",
       "      <td>47523</td>\n",
       "    </tr>\n",
       "    <tr>\n",
       "      <th>produce</th>\n",
       "      <td>4236921</td>\n",
       "      <td>46021</td>\n",
       "      <td>4796331</td>\n",
       "    </tr>\n",
       "    <tr>\n",
       "      <th>snacks</th>\n",
       "      <td>1104579</td>\n",
       "      <td>34849</td>\n",
       "      <td>1626978</td>\n",
       "    </tr>\n",
       "  </tbody>\n",
       "</table>\n",
       "</div>"
      ],
      "text/plain": [
       "income_flag      high income  low income  middle income\n",
       "department                                             \n",
       "alcohol                69142        1247          74238\n",
       "babies                196696        1509         212187\n",
       "bakery                527703        6001         587124\n",
       "beverages            1126437       23377        1422087\n",
       "breakfast             297594        4801         368455\n",
       "bulk                   14218         333          18900\n",
       "canned goods          485226        4190         522658\n",
       "dairy eggs           2406160       28367        2742655\n",
       "deli                  462089        6501         535244\n",
       "dry goods pasta       392709        3938         425489\n",
       "frozen                988452       12769        1120510\n",
       "household             319958        4726         375173\n",
       "international         119987        1375         134629\n",
       "meat seafood          335535        1565         337681\n",
       "missing                29452         395          34921\n",
       "other                  15749         288          18374\n",
       "pantry                839920        8716         934069\n",
       "personal care         193412        2454         228440\n",
       "pets                   45089         448          47523\n",
       "produce              4236921       46021        4796331\n",
       "snacks               1104579       34849        1626978"
      ]
     },
     "execution_count": 46,
     "metadata": {},
     "output_type": "execute_result"
    }
   ],
   "source": [
    "income_department"
   ]
  },
  {
   "cell_type": "code",
   "execution_count": 47,
   "id": "6ef2ffa2",
   "metadata": {},
   "outputs": [],
   "source": [
    "# Creating crosstab between household size and region\n",
    "household_region = pd.crosstab(regular_activity_sub['dependant_flag'], regular_activity_sub['region'], dropna = False)"
   ]
  },
  {
   "cell_type": "code",
   "execution_count": 48,
   "id": "4cfd5194",
   "metadata": {},
   "outputs": [
    {
     "data": {
      "text/html": [
       "<div>\n",
       "<style scoped>\n",
       "    .dataframe tbody tr th:only-of-type {\n",
       "        vertical-align: middle;\n",
       "    }\n",
       "\n",
       "    .dataframe tbody tr th {\n",
       "        vertical-align: top;\n",
       "    }\n",
       "\n",
       "    .dataframe thead th {\n",
       "        text-align: right;\n",
       "    }\n",
       "</style>\n",
       "<table border=\"1\" class=\"dataframe\">\n",
       "  <thead>\n",
       "    <tr style=\"text-align: right;\">\n",
       "      <th>region</th>\n",
       "      <th>Midwest</th>\n",
       "      <th>North_East</th>\n",
       "      <th>South</th>\n",
       "      <th>West</th>\n",
       "    </tr>\n",
       "    <tr>\n",
       "      <th>dependant_flag</th>\n",
       "      <th></th>\n",
       "      <th></th>\n",
       "      <th></th>\n",
       "      <th></th>\n",
       "    </tr>\n",
       "  </thead>\n",
       "  <tbody>\n",
       "    <tr>\n",
       "      <th>Large Household</th>\n",
       "      <td>1787286</td>\n",
       "      <td>1381233</td>\n",
       "      <td>2444954</td>\n",
       "      <td>2159043</td>\n",
       "    </tr>\n",
       "    <tr>\n",
       "      <th>Middle Household</th>\n",
       "      <td>3651411</td>\n",
       "      <td>2728970</td>\n",
       "      <td>4840058</td>\n",
       "      <td>4231928</td>\n",
       "    </tr>\n",
       "    <tr>\n",
       "      <th>Small Household</th>\n",
       "      <td>1822816</td>\n",
       "      <td>1354482</td>\n",
       "      <td>2416773</td>\n",
       "      <td>2145610</td>\n",
       "    </tr>\n",
       "  </tbody>\n",
       "</table>\n",
       "</div>"
      ],
      "text/plain": [
       "region            Midwest  North_East    South     West\n",
       "dependant_flag                                         \n",
       "Large Household   1787286     1381233  2444954  2159043\n",
       "Middle Household  3651411     2728970  4840058  4231928\n",
       "Small Household   1822816     1354482  2416773  2145610"
      ]
     },
     "execution_count": 48,
     "metadata": {},
     "output_type": "execute_result"
    }
   ],
   "source": [
    "household_region"
   ]
  },
  {
   "cell_type": "code",
   "execution_count": 49,
   "id": "e95571c6",
   "metadata": {},
   "outputs": [],
   "source": [
    "# Creating crosstab between household and department\n",
    "household_department = pd.crosstab(regular_activity_sub['department'], regular_activity_sub['dependant_flag'], dropna = False)"
   ]
  },
  {
   "cell_type": "code",
   "execution_count": 50,
   "id": "6863ac8a",
   "metadata": {},
   "outputs": [
    {
     "data": {
      "text/html": [
       "<div>\n",
       "<style scoped>\n",
       "    .dataframe tbody tr th:only-of-type {\n",
       "        vertical-align: middle;\n",
       "    }\n",
       "\n",
       "    .dataframe tbody tr th {\n",
       "        vertical-align: top;\n",
       "    }\n",
       "\n",
       "    .dataframe thead th {\n",
       "        text-align: right;\n",
       "    }\n",
       "</style>\n",
       "<table border=\"1\" class=\"dataframe\">\n",
       "  <thead>\n",
       "    <tr style=\"text-align: right;\">\n",
       "      <th>dependant_flag</th>\n",
       "      <th>Large Household</th>\n",
       "      <th>Middle Household</th>\n",
       "      <th>Small Household</th>\n",
       "    </tr>\n",
       "    <tr>\n",
       "      <th>department</th>\n",
       "      <th></th>\n",
       "      <th></th>\n",
       "      <th></th>\n",
       "    </tr>\n",
       "  </thead>\n",
       "  <tbody>\n",
       "    <tr>\n",
       "      <th>alcohol</th>\n",
       "      <td>37333</td>\n",
       "      <td>70467</td>\n",
       "      <td>36827</td>\n",
       "    </tr>\n",
       "    <tr>\n",
       "      <th>babies</th>\n",
       "      <td>102585</td>\n",
       "      <td>204479</td>\n",
       "      <td>103328</td>\n",
       "    </tr>\n",
       "    <tr>\n",
       "      <th>bakery</th>\n",
       "      <td>279822</td>\n",
       "      <td>559611</td>\n",
       "      <td>281395</td>\n",
       "    </tr>\n",
       "    <tr>\n",
       "      <th>beverages</th>\n",
       "      <td>640927</td>\n",
       "      <td>1285633</td>\n",
       "      <td>645341</td>\n",
       "    </tr>\n",
       "    <tr>\n",
       "      <th>breakfast</th>\n",
       "      <td>167322</td>\n",
       "      <td>337096</td>\n",
       "      <td>166432</td>\n",
       "    </tr>\n",
       "    <tr>\n",
       "      <th>bulk</th>\n",
       "      <td>8403</td>\n",
       "      <td>17048</td>\n",
       "      <td>8000</td>\n",
       "    </tr>\n",
       "    <tr>\n",
       "      <th>canned goods</th>\n",
       "      <td>255325</td>\n",
       "      <td>505729</td>\n",
       "      <td>251020</td>\n",
       "    </tr>\n",
       "    <tr>\n",
       "      <th>dairy eggs</th>\n",
       "      <td>1296264</td>\n",
       "      <td>2586542</td>\n",
       "      <td>1294376</td>\n",
       "    </tr>\n",
       "    <tr>\n",
       "      <th>deli</th>\n",
       "      <td>252592</td>\n",
       "      <td>497860</td>\n",
       "      <td>253382</td>\n",
       "    </tr>\n",
       "    <tr>\n",
       "      <th>dry goods pasta</th>\n",
       "      <td>208412</td>\n",
       "      <td>409428</td>\n",
       "      <td>204296</td>\n",
       "    </tr>\n",
       "    <tr>\n",
       "      <th>frozen</th>\n",
       "      <td>532408</td>\n",
       "      <td>1059975</td>\n",
       "      <td>529348</td>\n",
       "    </tr>\n",
       "    <tr>\n",
       "      <th>household</th>\n",
       "      <td>176284</td>\n",
       "      <td>352215</td>\n",
       "      <td>171358</td>\n",
       "    </tr>\n",
       "    <tr>\n",
       "      <th>international</th>\n",
       "      <td>63473</td>\n",
       "      <td>128057</td>\n",
       "      <td>64461</td>\n",
       "    </tr>\n",
       "    <tr>\n",
       "      <th>meat seafood</th>\n",
       "      <td>171423</td>\n",
       "      <td>337480</td>\n",
       "      <td>165878</td>\n",
       "    </tr>\n",
       "    <tr>\n",
       "      <th>missing</th>\n",
       "      <td>16435</td>\n",
       "      <td>32398</td>\n",
       "      <td>15935</td>\n",
       "    </tr>\n",
       "    <tr>\n",
       "      <th>other</th>\n",
       "      <td>8377</td>\n",
       "      <td>17320</td>\n",
       "      <td>8714</td>\n",
       "    </tr>\n",
       "    <tr>\n",
       "      <th>pantry</th>\n",
       "      <td>446156</td>\n",
       "      <td>892645</td>\n",
       "      <td>443904</td>\n",
       "    </tr>\n",
       "    <tr>\n",
       "      <th>personal care</th>\n",
       "      <td>106315</td>\n",
       "      <td>211786</td>\n",
       "      <td>106205</td>\n",
       "    </tr>\n",
       "    <tr>\n",
       "      <th>pets</th>\n",
       "      <td>23142</td>\n",
       "      <td>46316</td>\n",
       "      <td>23602</td>\n",
       "    </tr>\n",
       "    <tr>\n",
       "      <th>produce</th>\n",
       "      <td>2287719</td>\n",
       "      <td>4516113</td>\n",
       "      <td>2275441</td>\n",
       "    </tr>\n",
       "    <tr>\n",
       "      <th>snacks</th>\n",
       "      <td>691799</td>\n",
       "      <td>1384169</td>\n",
       "      <td>690438</td>\n",
       "    </tr>\n",
       "  </tbody>\n",
       "</table>\n",
       "</div>"
      ],
      "text/plain": [
       "dependant_flag   Large Household  Middle Household  Small Household\n",
       "department                                                         \n",
       "alcohol                    37333             70467            36827\n",
       "babies                    102585            204479           103328\n",
       "bakery                    279822            559611           281395\n",
       "beverages                 640927           1285633           645341\n",
       "breakfast                 167322            337096           166432\n",
       "bulk                        8403             17048             8000\n",
       "canned goods              255325            505729           251020\n",
       "dairy eggs               1296264           2586542          1294376\n",
       "deli                      252592            497860           253382\n",
       "dry goods pasta           208412            409428           204296\n",
       "frozen                    532408           1059975           529348\n",
       "household                 176284            352215           171358\n",
       "international              63473            128057            64461\n",
       "meat seafood              171423            337480           165878\n",
       "missing                    16435             32398            15935\n",
       "other                       8377             17320             8714\n",
       "pantry                    446156            892645           443904\n",
       "personal care             106315            211786           106205\n",
       "pets                       23142             46316            23602\n",
       "produce                  2287719           4516113          2275441\n",
       "snacks                    691799           1384169           690438"
      ]
     },
     "execution_count": 50,
     "metadata": {},
     "output_type": "execute_result"
    }
   ],
   "source": [
    "household_department"
   ]
  },
  {
   "cell_type": "code",
   "execution_count": 51,
   "id": "e07b0ed9",
   "metadata": {},
   "outputs": [],
   "source": [
    "# Creating crosstab between child age and region\n",
    "child_region = pd.crosstab(regular_activity_sub['baby_flag'], regular_activity_sub['region'], dropna = False)"
   ]
  },
  {
   "cell_type": "code",
   "execution_count": 52,
   "id": "93e1b1b0",
   "metadata": {},
   "outputs": [
    {
     "data": {
      "text/html": [
       "<div>\n",
       "<style scoped>\n",
       "    .dataframe tbody tr th:only-of-type {\n",
       "        vertical-align: middle;\n",
       "    }\n",
       "\n",
       "    .dataframe tbody tr th {\n",
       "        vertical-align: top;\n",
       "    }\n",
       "\n",
       "    .dataframe thead th {\n",
       "        text-align: right;\n",
       "    }\n",
       "</style>\n",
       "<table border=\"1\" class=\"dataframe\">\n",
       "  <thead>\n",
       "    <tr style=\"text-align: right;\">\n",
       "      <th>region</th>\n",
       "      <th>Midwest</th>\n",
       "      <th>North_East</th>\n",
       "      <th>South</th>\n",
       "      <th>West</th>\n",
       "    </tr>\n",
       "    <tr>\n",
       "      <th>baby_flag</th>\n",
       "      <th></th>\n",
       "      <th></th>\n",
       "      <th></th>\n",
       "      <th></th>\n",
       "    </tr>\n",
       "  </thead>\n",
       "  <tbody>\n",
       "    <tr>\n",
       "      <th>No Child</th>\n",
       "      <td>1822816</td>\n",
       "      <td>1354482</td>\n",
       "      <td>2416773</td>\n",
       "      <td>2145610</td>\n",
       "    </tr>\n",
       "    <tr>\n",
       "      <th>Older Child</th>\n",
       "      <td>5367664</td>\n",
       "      <td>4055516</td>\n",
       "      <td>7187850</td>\n",
       "      <td>6306789</td>\n",
       "    </tr>\n",
       "    <tr>\n",
       "      <th>Young Child</th>\n",
       "      <td>71033</td>\n",
       "      <td>54687</td>\n",
       "      <td>97162</td>\n",
       "      <td>84182</td>\n",
       "    </tr>\n",
       "  </tbody>\n",
       "</table>\n",
       "</div>"
      ],
      "text/plain": [
       "region       Midwest  North_East    South     West\n",
       "baby_flag                                         \n",
       "No Child     1822816     1354482  2416773  2145610\n",
       "Older Child  5367664     4055516  7187850  6306789\n",
       "Young Child    71033       54687    97162    84182"
      ]
     },
     "execution_count": 52,
     "metadata": {},
     "output_type": "execute_result"
    }
   ],
   "source": [
    "child_region"
   ]
  },
  {
   "cell_type": "code",
   "execution_count": 53,
   "id": "b06990be",
   "metadata": {},
   "outputs": [],
   "source": [
    "# Creating crosstab between child age and department\n",
    "child_department = pd.crosstab(regular_activity_sub['department'], regular_activity_sub['baby_flag'], dropna = False)"
   ]
  },
  {
   "cell_type": "code",
   "execution_count": 54,
   "id": "16654647",
   "metadata": {},
   "outputs": [
    {
     "data": {
      "text/html": [
       "<div>\n",
       "<style scoped>\n",
       "    .dataframe tbody tr th:only-of-type {\n",
       "        vertical-align: middle;\n",
       "    }\n",
       "\n",
       "    .dataframe tbody tr th {\n",
       "        vertical-align: top;\n",
       "    }\n",
       "\n",
       "    .dataframe thead th {\n",
       "        text-align: right;\n",
       "    }\n",
       "</style>\n",
       "<table border=\"1\" class=\"dataframe\">\n",
       "  <thead>\n",
       "    <tr style=\"text-align: right;\">\n",
       "      <th>baby_flag</th>\n",
       "      <th>No Child</th>\n",
       "      <th>Older Child</th>\n",
       "      <th>Young Child</th>\n",
       "    </tr>\n",
       "    <tr>\n",
       "      <th>department</th>\n",
       "      <th></th>\n",
       "      <th></th>\n",
       "      <th></th>\n",
       "    </tr>\n",
       "  </thead>\n",
       "  <tbody>\n",
       "    <tr>\n",
       "      <th>alcohol</th>\n",
       "      <td>36827</td>\n",
       "      <td>107800</td>\n",
       "      <td>0</td>\n",
       "    </tr>\n",
       "    <tr>\n",
       "      <th>babies</th>\n",
       "      <td>103328</td>\n",
       "      <td>0</td>\n",
       "      <td>307064</td>\n",
       "    </tr>\n",
       "    <tr>\n",
       "      <th>bakery</th>\n",
       "      <td>281395</td>\n",
       "      <td>839433</td>\n",
       "      <td>0</td>\n",
       "    </tr>\n",
       "    <tr>\n",
       "      <th>beverages</th>\n",
       "      <td>645341</td>\n",
       "      <td>1926560</td>\n",
       "      <td>0</td>\n",
       "    </tr>\n",
       "    <tr>\n",
       "      <th>breakfast</th>\n",
       "      <td>166432</td>\n",
       "      <td>504418</td>\n",
       "      <td>0</td>\n",
       "    </tr>\n",
       "    <tr>\n",
       "      <th>bulk</th>\n",
       "      <td>8000</td>\n",
       "      <td>25451</td>\n",
       "      <td>0</td>\n",
       "    </tr>\n",
       "    <tr>\n",
       "      <th>canned goods</th>\n",
       "      <td>251020</td>\n",
       "      <td>761054</td>\n",
       "      <td>0</td>\n",
       "    </tr>\n",
       "    <tr>\n",
       "      <th>dairy eggs</th>\n",
       "      <td>1294376</td>\n",
       "      <td>3882806</td>\n",
       "      <td>0</td>\n",
       "    </tr>\n",
       "    <tr>\n",
       "      <th>deli</th>\n",
       "      <td>253382</td>\n",
       "      <td>750452</td>\n",
       "      <td>0</td>\n",
       "    </tr>\n",
       "    <tr>\n",
       "      <th>dry goods pasta</th>\n",
       "      <td>204296</td>\n",
       "      <td>617840</td>\n",
       "      <td>0</td>\n",
       "    </tr>\n",
       "    <tr>\n",
       "      <th>frozen</th>\n",
       "      <td>529348</td>\n",
       "      <td>1592383</td>\n",
       "      <td>0</td>\n",
       "    </tr>\n",
       "    <tr>\n",
       "      <th>household</th>\n",
       "      <td>171358</td>\n",
       "      <td>528499</td>\n",
       "      <td>0</td>\n",
       "    </tr>\n",
       "    <tr>\n",
       "      <th>international</th>\n",
       "      <td>64461</td>\n",
       "      <td>191530</td>\n",
       "      <td>0</td>\n",
       "    </tr>\n",
       "    <tr>\n",
       "      <th>meat seafood</th>\n",
       "      <td>165878</td>\n",
       "      <td>508903</td>\n",
       "      <td>0</td>\n",
       "    </tr>\n",
       "    <tr>\n",
       "      <th>missing</th>\n",
       "      <td>15935</td>\n",
       "      <td>48833</td>\n",
       "      <td>0</td>\n",
       "    </tr>\n",
       "    <tr>\n",
       "      <th>other</th>\n",
       "      <td>8714</td>\n",
       "      <td>25697</td>\n",
       "      <td>0</td>\n",
       "    </tr>\n",
       "    <tr>\n",
       "      <th>pantry</th>\n",
       "      <td>443904</td>\n",
       "      <td>1338801</td>\n",
       "      <td>0</td>\n",
       "    </tr>\n",
       "    <tr>\n",
       "      <th>personal care</th>\n",
       "      <td>106205</td>\n",
       "      <td>318101</td>\n",
       "      <td>0</td>\n",
       "    </tr>\n",
       "    <tr>\n",
       "      <th>pets</th>\n",
       "      <td>23602</td>\n",
       "      <td>69458</td>\n",
       "      <td>0</td>\n",
       "    </tr>\n",
       "    <tr>\n",
       "      <th>produce</th>\n",
       "      <td>2275441</td>\n",
       "      <td>6803832</td>\n",
       "      <td>0</td>\n",
       "    </tr>\n",
       "    <tr>\n",
       "      <th>snacks</th>\n",
       "      <td>690438</td>\n",
       "      <td>2075968</td>\n",
       "      <td>0</td>\n",
       "    </tr>\n",
       "  </tbody>\n",
       "</table>\n",
       "</div>"
      ],
      "text/plain": [
       "baby_flag        No Child  Older Child  Young Child\n",
       "department                                         \n",
       "alcohol             36827       107800            0\n",
       "babies             103328            0       307064\n",
       "bakery             281395       839433            0\n",
       "beverages          645341      1926560            0\n",
       "breakfast          166432       504418            0\n",
       "bulk                 8000        25451            0\n",
       "canned goods       251020       761054            0\n",
       "dairy eggs        1294376      3882806            0\n",
       "deli               253382       750452            0\n",
       "dry goods pasta    204296       617840            0\n",
       "frozen             529348      1592383            0\n",
       "household          171358       528499            0\n",
       "international       64461       191530            0\n",
       "meat seafood       165878       508903            0\n",
       "missing             15935        48833            0\n",
       "other                8714        25697            0\n",
       "pantry             443904      1338801            0\n",
       "personal care      106205       318101            0\n",
       "pets                23602        69458            0\n",
       "produce           2275441      6803832            0\n",
       "snacks             690438      2075968            0"
      ]
     },
     "execution_count": 54,
     "metadata": {},
     "output_type": "execute_result"
    }
   ],
   "source": [
    "child_department"
   ]
  },
  {
   "cell_type": "markdown",
   "id": "0d987021",
   "metadata": {},
   "source": [
    "## 4.10 Question 9"
   ]
  },
  {
   "cell_type": "code",
   "execution_count": 55,
   "id": "25cbe97e",
   "metadata": {},
   "outputs": [
    {
     "data": {
      "image/png": "[encoded data removed]",
      "text/plain": [
       "<Figure size 640x480 with 1 Axes>"
      ]
     },
     "metadata": {},
     "output_type": "display_data"
    }
   ],
   "source": [
    "# Bar Chart for age and region\n",
    "age_region_bar = age_region.plot(kind= 'bar', stacked = True)"
   ]
  },
  {
   "cell_type": "code",
   "execution_count": 56,
   "id": "bf8f2c72",
   "metadata": {},
   "outputs": [],
   "source": [
    "# Exporting age_region bar chart\n",
    "age_region_bar.figure.savefig(os.path.join(path, '04 Analysis', 'Visualizations', 'age_region_bar.png'))"
   ]
  },
  {
   "cell_type": "code",
   "execution_count": 57,
   "id": "4f7631bb",
   "metadata": {},
   "outputs": [
    {
     "data": {
      "image/png": "[encoded data removed]",
      "text/plain": [
       "<Figure size 640x480 with 1 Axes>"
      ]
     },
     "metadata": {},
     "output_type": "display_data"
    }
   ],
   "source": [
    "# Bar Chart for age and department\n",
    "age_department_bar = age_department.plot(kind= 'bar', stacked = True)"
   ]
  },
  {
   "cell_type": "code",
   "execution_count": 58,
   "id": "09a29216",
   "metadata": {},
   "outputs": [],
   "source": [
    "# Exporting age_department bar chart\n",
    "age_department_bar.figure.savefig(os.path.join(path, '04 Analysis', 'Visualizations', 'age_department_bar.png'))"
   ]
  },
  {
   "cell_type": "code",
   "execution_count": 59,
   "id": "656a956d",
   "metadata": {},
   "outputs": [
    {
     "data": {
      "image/png": "[encoded data removed]",
      "text/plain": [
       "<Figure size 640x480 with 1 Axes>"
      ]
     },
     "metadata": {},
     "output_type": "display_data"
    }
   ],
   "source": [
    "# Bar Chart for income and region\n",
    "income_region_bar = income_region.plot(kind= 'bar', stacked = True)"
   ]
  },
  {
   "cell_type": "code",
   "execution_count": 60,
   "id": "1f0cf15b",
   "metadata": {},
   "outputs": [],
   "source": [
    "# Exporting income_region bar chart\n",
    "income_region_bar.figure.savefig(os.path.join(path, '04 Analysis', 'Visualizations', 'income_region_bar.png'))"
   ]
  },
  {
   "cell_type": "code",
   "execution_count": 61,
   "id": "c9d2f8d2",
   "metadata": {},
   "outputs": [
    {
     "data": {
      "image/png": "[encoded data removed]",
      "text/plain": [
       "<Figure size 640x480 with 1 Axes>"
      ]
     },
     "metadata": {},
     "output_type": "display_data"
    }
   ],
   "source": [
    "# Bar Chart for income and department\n",
    "income_department_bar = income_department.plot(kind= 'bar', stacked = True)"
   ]
  },
  {
   "cell_type": "code",
   "execution_count": 62,
   "id": "11421200",
   "metadata": {},
   "outputs": [],
   "source": [
    "# Exporting income_department bar chart\n",
    "income_department_bar.figure.savefig(os.path.join(path, '04 Analysis', 'Visualizations', 'income_department_bar.png'))"
   ]
  },
  {
   "cell_type": "code",
   "execution_count": 63,
   "id": "bd5e545a",
   "metadata": {},
   "outputs": [
    {
     "data": {
      "image/png": "[encoded data removed]",
      "text/plain": [
       "<Figure size 640x480 with 1 Axes>"
      ]
     },
     "metadata": {},
     "output_type": "display_data"
    }
   ],
   "source": [
    "# Bar Chart for household and region\n",
    "household_region_bar = household_region.plot(kind= 'bar', stacked = True)"
   ]
  },
  {
   "cell_type": "code",
   "execution_count": 64,
   "id": "41e7c21f",
   "metadata": {},
   "outputs": [],
   "source": [
    "# Exporting household_region bar chart\n",
    "household_region_bar.figure.savefig(os.path.join(path, '04 Analysis', 'Visualizations', 'household_region_bar.png'))"
   ]
  },
  {
   "cell_type": "code",
   "execution_count": 65,
   "id": "c7489bd2",
   "metadata": {},
   "outputs": [
    {
     "data": {
      "image/png": "[encoded data removed]",
      "text/plain": [
       "<Figure size 640x480 with 1 Axes>"
      ]
     },
     "metadata": {},
     "output_type": "display_data"
    }
   ],
   "source": [
    "# Bar Chart for household and department\n",
    "household_department_bar = household_department.plot(kind= 'bar', stacked = True)"
   ]
  },
  {
   "cell_type": "code",
   "execution_count": 66,
   "id": "28e41d42",
   "metadata": {},
   "outputs": [],
   "source": [
    "# Exporting household_department bar chart\n",
    "household_department_bar.figure.savefig(os.path.join(path, '04 Analysis', 'Visualizations', 'household_department_bar.png'))"
   ]
  },
  {
   "cell_type": "code",
   "execution_count": 68,
   "id": "e212c156",
   "metadata": {},
   "outputs": [
    {
     "data": {
      "image/png": "[encoded data removed]",
      "text/plain": [
       "<Figure size 640x480 with 1 Axes>"
      ]
     },
     "metadata": {},
     "output_type": "display_data"
    }
   ],
   "source": [
    "# Bar Chart for children and region\n",
    "child_region_bar = child_region.plot(kind= 'bar', stacked = True)"
   ]
  },
  {
   "cell_type": "code",
   "execution_count": 69,
   "id": "bc3e3691",
   "metadata": {},
   "outputs": [],
   "source": [
    "# Exporting children_region bar chart\n",
    "child_region_bar.figure.savefig(os.path.join(path, '04 Analysis', 'Visualizations', 'child_region_bar.png'))"
   ]
  },
  {
   "cell_type": "code",
   "execution_count": 70,
   "id": "cd2aed75",
   "metadata": {},
   "outputs": [
    {
     "data": {
      "image/png": "[encoded data removed]",
      "text/plain": [
       "<Figure size 640x480 with 1 Axes>"
      ]
     },
     "metadata": {},
     "output_type": "display_data"
    }
   ],
   "source": [
    "# Bar Chart for children and department\n",
    "child_department_bar = child_department.plot(kind= 'bar', stacked = True)"
   ]
  },
  {
   "cell_type": "code",
   "execution_count": 71,
   "id": "a7b43315",
   "metadata": {},
   "outputs": [],
   "source": [
    "# Exporting children_department bar chart\n",
    "child_department_bar.figure.savefig(os.path.join(path, '04 Analysis', 'Visualizations', 'child_department_bar.png'))"
   ]
  },
  {
   "cell_type": "markdown",
   "id": "7a084f4a",
   "metadata": {},
   "source": [
    "## Question 10"
   ]
  },
  {
   "cell_type": "code",
   "execution_count": 72,
   "id": "687dbcdd",
   "metadata": {},
   "outputs": [],
   "source": [
    "# Exporting Dataset\n",
    "regular_activity_sub.to_pickle(os.path.join(path, '02 Data', 'Prepared Data', 'instacart_final_pkl'))"
   ]
  },
  {
   "cell_type": "code",
   "execution_count": null,
   "id": "e01e1074",
   "metadata": {},
   "outputs": [],
   "source": []
  }
 ],
 "metadata": {
  "kernelspec": {
   "display_name": "Python 3 (ipykernel)",
   "language": "python",
   "name": "python3"
  },
  "language_info": {
   "codemirror_mode": {
    "name": "ipython",
    "version": 3
   },
   "file_extension": ".py",
   "mimetype": "text/x-python",
   "name": "python",
   "nbconvert_exporter": "python",
   "pygments_lexer": "ipython3",
   "version": "3.9.13"
  }
 },
 "nbformat": 4,
 "nbformat_minor": 5
}
