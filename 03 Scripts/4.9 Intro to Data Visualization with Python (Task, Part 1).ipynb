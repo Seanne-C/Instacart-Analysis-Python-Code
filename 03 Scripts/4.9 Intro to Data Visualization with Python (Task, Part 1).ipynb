{
 "cells": [
  {
   "cell_type": "markdown",
   "id": "52a1862c",
   "metadata": {},
   "source": [
    "# Contents in this notebook\n",
    "1. Importing Libraries and Data\n",
    "2. Checking and cleaning customers dataset\n",
    "3. Dealing with memory error\n",
    "4. Merging customer and ords_prods_merge_new_new dataset"
   ]
  },
  {
   "cell_type": "markdown",
   "id": "63363c7d",
   "metadata": {},
   "source": [
    "# Importing Libraries"
   ]
  },
  {
   "cell_type": "code",
   "execution_count": 1,
   "id": "6e94f0fd",
   "metadata": {},
   "outputs": [],
   "source": [
    "# Importing Libraries\n",
    "import pandas as pd\n",
    "import numpy as np\n",
    "import os"
   ]
  },
  {
   "cell_type": "code",
   "execution_count": 2,
   "id": "9cdab0a8",
   "metadata": {},
   "outputs": [],
   "source": [
    "# Defining Path\n",
    "path = r'C:\\Users\\seann\\Downloads\\Career Foundry Tasks\\12-08-22 Instacart Basket Analysis'"
   ]
  },
  {
   "cell_type": "code",
   "execution_count": 3,
   "id": "63b58314",
   "metadata": {},
   "outputs": [],
   "source": [
    "# Importing Customers data set\n",
    "df_customers = pd.read_csv(os.path.join(path, '02 Data', 'Original Data', 'customers.csv'), index_col = False)"
   ]
  },
  {
   "cell_type": "code",
   "execution_count": 4,
   "id": "ad1e7fe0",
   "metadata": {},
   "outputs": [],
   "source": [
    "# Importing Orders and Products Merged Data Set\n",
    "ords_prods_merge = pd.read_pickle(os.path.join(path, '02 Data', 'Prepared Data', 'ords_prods_merge_new_updated.pkl'))"
   ]
  },
  {
   "cell_type": "markdown",
   "id": "217fb975",
   "metadata": {},
   "source": [
    "## Checking and cleaning customers dataset"
   ]
  },
  {
   "cell_type": "code",
   "execution_count": 5,
   "id": "58e00eb3",
   "metadata": {},
   "outputs": [
    {
     "data": {
      "text/html": [
       "<div>\n",
       "<style scoped>\n",
       "    .dataframe tbody tr th:only-of-type {\n",
       "        vertical-align: middle;\n",
       "    }\n",
       "\n",
       "    .dataframe tbody tr th {\n",
       "        vertical-align: top;\n",
       "    }\n",
       "\n",
       "    .dataframe thead th {\n",
       "        text-align: right;\n",
       "    }\n",
       "</style>\n",
       "<table border=\"1\" class=\"dataframe\">\n",
       "  <thead>\n",
       "    <tr style=\"text-align: right;\">\n",
       "      <th></th>\n",
       "      <th>user_id</th>\n",
       "      <th>First Name</th>\n",
       "      <th>Surnam</th>\n",
       "      <th>Gender</th>\n",
       "      <th>STATE</th>\n",
       "      <th>Age</th>\n",
       "      <th>date_joined</th>\n",
       "      <th>n_dependants</th>\n",
       "      <th>fam_status</th>\n",
       "      <th>income</th>\n",
       "    </tr>\n",
       "  </thead>\n",
       "  <tbody>\n",
       "    <tr>\n",
       "      <th>0</th>\n",
       "      <td>26711</td>\n",
       "      <td>Deborah</td>\n",
       "      <td>Esquivel</td>\n",
       "      <td>Female</td>\n",
       "      <td>Missouri</td>\n",
       "      <td>48</td>\n",
       "      <td>1/1/2017</td>\n",
       "      <td>3</td>\n",
       "      <td>married</td>\n",
       "      <td>165665</td>\n",
       "    </tr>\n",
       "    <tr>\n",
       "      <th>1</th>\n",
       "      <td>33890</td>\n",
       "      <td>Patricia</td>\n",
       "      <td>Hart</td>\n",
       "      <td>Female</td>\n",
       "      <td>New Mexico</td>\n",
       "      <td>36</td>\n",
       "      <td>1/1/2017</td>\n",
       "      <td>0</td>\n",
       "      <td>single</td>\n",
       "      <td>59285</td>\n",
       "    </tr>\n",
       "    <tr>\n",
       "      <th>2</th>\n",
       "      <td>65803</td>\n",
       "      <td>Kenneth</td>\n",
       "      <td>Farley</td>\n",
       "      <td>Male</td>\n",
       "      <td>Idaho</td>\n",
       "      <td>35</td>\n",
       "      <td>1/1/2017</td>\n",
       "      <td>2</td>\n",
       "      <td>married</td>\n",
       "      <td>99568</td>\n",
       "    </tr>\n",
       "    <tr>\n",
       "      <th>3</th>\n",
       "      <td>125935</td>\n",
       "      <td>Michelle</td>\n",
       "      <td>Hicks</td>\n",
       "      <td>Female</td>\n",
       "      <td>Iowa</td>\n",
       "      <td>40</td>\n",
       "      <td>1/1/2017</td>\n",
       "      <td>0</td>\n",
       "      <td>single</td>\n",
       "      <td>42049</td>\n",
       "    </tr>\n",
       "    <tr>\n",
       "      <th>4</th>\n",
       "      <td>130797</td>\n",
       "      <td>Ann</td>\n",
       "      <td>Gilmore</td>\n",
       "      <td>Female</td>\n",
       "      <td>Maryland</td>\n",
       "      <td>26</td>\n",
       "      <td>1/1/2017</td>\n",
       "      <td>1</td>\n",
       "      <td>married</td>\n",
       "      <td>40374</td>\n",
       "    </tr>\n",
       "  </tbody>\n",
       "</table>\n",
       "</div>"
      ],
      "text/plain": [
       "   user_id First Name    Surnam  Gender       STATE  Age date_joined  \\\n",
       "0    26711    Deborah  Esquivel  Female    Missouri   48    1/1/2017   \n",
       "1    33890   Patricia      Hart  Female  New Mexico   36    1/1/2017   \n",
       "2    65803    Kenneth    Farley    Male       Idaho   35    1/1/2017   \n",
       "3   125935   Michelle     Hicks  Female        Iowa   40    1/1/2017   \n",
       "4   130797        Ann   Gilmore  Female    Maryland   26    1/1/2017   \n",
       "\n",
       "   n_dependants fam_status  income  \n",
       "0             3    married  165665  \n",
       "1             0     single   59285  \n",
       "2             2    married   99568  \n",
       "3             0     single   42049  \n",
       "4             1    married   40374  "
      ]
     },
     "execution_count": 5,
     "metadata": {},
     "output_type": "execute_result"
    }
   ],
   "source": [
    "df_customers.head()"
   ]
  },
  {
   "cell_type": "code",
   "execution_count": 6,
   "id": "f206a2aa",
   "metadata": {},
   "outputs": [],
   "source": [
    "# Renaming Columns\n",
    "df_customers.rename(columns = {'Surnam' : 'Surname'}, inplace = True)"
   ]
  },
  {
   "cell_type": "code",
   "execution_count": 7,
   "id": "15d7d402",
   "metadata": {},
   "outputs": [],
   "source": [
    "df_customers.rename(columns = {'STATE' : 'State'}, inplace = True)"
   ]
  },
  {
   "cell_type": "code",
   "execution_count": 8,
   "id": "dd30a8b3",
   "metadata": {},
   "outputs": [],
   "source": [
    "df_customers.rename(columns = {'n_dependants' : 'dependants'}, inplace = True)"
   ]
  },
  {
   "cell_type": "code",
   "execution_count": 9,
   "id": "0493b2dc",
   "metadata": {},
   "outputs": [
    {
     "data": {
      "text/plain": [
       "Index(['user_id', 'First Name', 'Surname', 'Gender', 'State', 'Age',\n",
       "       'date_joined', 'dependants', 'fam_status', 'income'],\n",
       "      dtype='object')"
      ]
     },
     "execution_count": 9,
     "metadata": {},
     "output_type": "execute_result"
    }
   ],
   "source": [
    "# Checking df_customers columns\n",
    "df_customers.columns"
   ]
  },
  {
   "cell_type": "code",
   "execution_count": 10,
   "id": "ecfd8db2",
   "metadata": {},
   "outputs": [
    {
     "name": "stdout",
     "output_type": "stream",
     "text": [
      "First Name\n"
     ]
    }
   ],
   "source": [
    "# Checking for mixed data-types\n",
    "for col in df_customers.columns.tolist():\n",
    "  weird = (df_customers[[col]].applymap(type) != df_customers[[col]].iloc[0].apply(type)).any(axis = 1)\n",
    "  if len (df_customers[weird]) > 0:\n",
    "    print (col)"
   ]
  },
  {
   "cell_type": "code",
   "execution_count": 11,
   "id": "51df8a92",
   "metadata": {},
   "outputs": [],
   "source": [
    "# Changing mixed data type to string\n",
    "df_customers['First Name'] = df_customers['First Name'].astype('str')"
   ]
  },
  {
   "cell_type": "code",
   "execution_count": 12,
   "id": "103de6a8",
   "metadata": {},
   "outputs": [
    {
     "data": {
      "text/plain": [
       "user_id        0\n",
       "First Name     0\n",
       "Surname        0\n",
       "Gender         0\n",
       "State          0\n",
       "Age            0\n",
       "date_joined    0\n",
       "dependants     0\n",
       "fam_status     0\n",
       "income         0\n",
       "dtype: int64"
      ]
     },
     "execution_count": 12,
     "metadata": {},
     "output_type": "execute_result"
    }
   ],
   "source": [
    "# Finding Missing Values\n",
    "df_customers.isnull().sum()"
   ]
  },
  {
   "cell_type": "code",
   "execution_count": 13,
   "id": "e6746b03",
   "metadata": {},
   "outputs": [],
   "source": [
    "# locating Duplicates\n",
    "df_dups = df_customers[df_customers.duplicated()]"
   ]
  },
  {
   "cell_type": "code",
   "execution_count": 14,
   "id": "b9ac6edc",
   "metadata": {},
   "outputs": [
    {
     "data": {
      "text/html": [
       "<div>\n",
       "<style scoped>\n",
       "    .dataframe tbody tr th:only-of-type {\n",
       "        vertical-align: middle;\n",
       "    }\n",
       "\n",
       "    .dataframe tbody tr th {\n",
       "        vertical-align: top;\n",
       "    }\n",
       "\n",
       "    .dataframe thead th {\n",
       "        text-align: right;\n",
       "    }\n",
       "</style>\n",
       "<table border=\"1\" class=\"dataframe\">\n",
       "  <thead>\n",
       "    <tr style=\"text-align: right;\">\n",
       "      <th></th>\n",
       "      <th>user_id</th>\n",
       "      <th>First Name</th>\n",
       "      <th>Surname</th>\n",
       "      <th>Gender</th>\n",
       "      <th>State</th>\n",
       "      <th>Age</th>\n",
       "      <th>date_joined</th>\n",
       "      <th>dependants</th>\n",
       "      <th>fam_status</th>\n",
       "      <th>income</th>\n",
       "    </tr>\n",
       "  </thead>\n",
       "  <tbody>\n",
       "  </tbody>\n",
       "</table>\n",
       "</div>"
      ],
      "text/plain": [
       "Empty DataFrame\n",
       "Columns: [user_id, First Name, Surname, Gender, State, Age, date_joined, dependants, fam_status, income]\n",
       "Index: []"
      ]
     },
     "execution_count": 14,
     "metadata": {},
     "output_type": "execute_result"
    }
   ],
   "source": [
    "df_dups"
   ]
  },
  {
   "cell_type": "code",
   "execution_count": 15,
   "id": "dd753598",
   "metadata": {},
   "outputs": [
    {
     "data": {
      "text/plain": [
       "Index(['order_id', 'user_id', 'amount_of_orders_made', 'order_day_of_week',\n",
       "       'order_hour_of_day', 'days_since_prior_order', 'product_id',\n",
       "       'add_to_cart_order', 'reordered', 'product_name', 'aisle_id',\n",
       "       'department_id', 'prices', 'price_range_loc', 'busiest day',\n",
       "       'busiest days', 'Busiest Order Periods', 'max_order', 'loyalty_flag',\n",
       "       'avg_price', 'spending_flag', 'median_days_since_prior_order',\n",
       "       'frequency_flag'],\n",
       "      dtype='object')"
      ]
     },
     "execution_count": 15,
     "metadata": {},
     "output_type": "execute_result"
    }
   ],
   "source": [
    "# Checking ords prods merge columns\n",
    "ords_prods_merge.columns"
   ]
  },
  {
   "cell_type": "code",
   "execution_count": 16,
   "id": "8b94c51c",
   "metadata": {},
   "outputs": [
    {
     "data": {
      "text/plain": [
       "Index(['user_id', 'First Name', 'Surname', 'Gender', 'State', 'Age',\n",
       "       'date_joined', 'dependants', 'fam_status', 'income'],\n",
       "      dtype='object')"
      ]
     },
     "execution_count": 16,
     "metadata": {},
     "output_type": "execute_result"
    }
   ],
   "source": [
    "# Checking df_customers columns\n",
    "df_customers.columns"
   ]
  },
  {
   "cell_type": "markdown",
   "id": "9b690748",
   "metadata": {},
   "source": [
    "## Dealing with memory error"
   ]
  },
  {
   "cell_type": "code",
   "execution_count": 23,
   "id": "12c08537",
   "metadata": {
    "scrolled": true
   },
   "outputs": [
    {
     "name": "stdout",
     "output_type": "stream",
     "text": [
      "<class 'pandas.core.frame.DataFrame'>\n",
      "RangeIndex: 206209 entries, 0 to 206208\n",
      "Data columns (total 10 columns):\n",
      " #   Column       Non-Null Count   Dtype \n",
      "---  ------       --------------   ----- \n",
      " 0   user_id      206209 non-null  int64 \n",
      " 1   First Name   206209 non-null  object\n",
      " 2   Surname      206209 non-null  object\n",
      " 3   Gender       206209 non-null  object\n",
      " 4   State        206209 non-null  object\n",
      " 5   Age          206209 non-null  int64 \n",
      " 6   date_joined  206209 non-null  object\n",
      " 7   dependants   206209 non-null  int64 \n",
      " 8   fam_status   206209 non-null  object\n",
      " 9   income       206209 non-null  int64 \n",
      "dtypes: int64(4), object(6)\n",
      "memory usage: 15.7+ MB\n"
     ]
    }
   ],
   "source": [
    "# Dealing with memory error\n",
    "df_customers.info()"
   ]
  },
  {
   "cell_type": "code",
   "execution_count": 18,
   "id": "ccbe170a",
   "metadata": {},
   "outputs": [
    {
     "name": "stdout",
     "output_type": "stream",
     "text": [
      "<class 'pandas.core.frame.DataFrame'>\n",
      "Int64Index: 32404859 entries, 0 to 32404858\n",
      "Data columns (total 23 columns):\n",
      " #   Column                         Dtype  \n",
      "---  ------                         -----  \n",
      " 0   order_id                       int64  \n",
      " 1   user_id                        int64  \n",
      " 2   amount_of_orders_made          int64  \n",
      " 3   order_day_of_week              int64  \n",
      " 4   order_hour_of_day              int64  \n",
      " 5   days_since_prior_order         float64\n",
      " 6   product_id                     int64  \n",
      " 7   add_to_cart_order              int64  \n",
      " 8   reordered                      int64  \n",
      " 9   product_name                   object \n",
      " 10  aisle_id                       int64  \n",
      " 11  department_id                  int64  \n",
      " 12  prices                         float64\n",
      " 13  price_range_loc                object \n",
      " 14  busiest day                    object \n",
      " 15  busiest days                   object \n",
      " 16  Busiest Order Periods          object \n",
      " 17  max_order                      int64  \n",
      " 18  loyalty_flag                   object \n",
      " 19  avg_price                      float64\n",
      " 20  spending_flag                  object \n",
      " 21  median_days_since_prior_order  float64\n",
      " 22  frequency_flag                 object \n",
      "dtypes: float64(4), int64(11), object(8)\n",
      "memory usage: 5.8+ GB\n"
     ]
    }
   ],
   "source": [
    "ords_prods_merge.info()"
   ]
  },
  {
   "cell_type": "code",
   "execution_count": 21,
   "id": "ba1f9f8b",
   "metadata": {},
   "outputs": [],
   "source": [
    "ords_prods_merge['order_id']=ords_prods_merge['order_id'].astype('int32')\n",
    "ords_prods_merge['user_id']=ords_prods_merge['user_id'].astype('int32')\n",
    "ords_prods_merge['amount_of_orders_made']=ords_prods_merge['amount_of_orders_made'].astype('int32')\n",
    "ords_prods_merge['order_day_of_week']=ords_prods_merge['order_day_of_week'].astype('int8')\n",
    "ords_prods_merge['order_hour_of_day']=ords_prods_merge['order_hour_of_day'].astype('int8')\n",
    "ords_prods_merge['days_since_prior_order']=ords_prods_merge['days_since_prior_order'].astype('float16')\n",
    "ords_prods_merge['product_id']=ords_prods_merge['product_id'].astype('int32')\n",
    "ords_prods_merge['add _to_cart_order']=ords_prods_merge['add_to_cart_order'].astype('int32')\n",
    "ords_prods_merge['reordered']=ords_prods_merge['reordered'].astype('int8')\n",
    "ords_prods_merge['product_name']=ords_prods_merge['product_name'].astype('object')\n",
    "ords_prods_merge['aisle_id']=ords_prods_merge['aisle_id'].astype('int8')\n",
    "ords_prods_merge['department_id']=ords_prods_merge['department_id'].astype('int8')\n",
    "ords_prods_merge['prices']=ords_prods_merge['prices'].astype('float16')\n",
    "ords_prods_merge['price_range_loc']=ords_prods_merge['price_range_loc'].astype('object')\n",
    "ords_prods_merge['busiest day']=ords_prods_merge['busiest day'].astype('object')\n",
    "ords_prods_merge['busiest days']=ords_prods_merge['busiest days'].astype('object')\n",
    "ords_prods_merge['Busiest Order Periods']=ords_prods_merge['Busiest Order Periods'].astype('object')\n",
    "ords_prods_merge['max_order']=ords_prods_merge['max_order'].astype('int32')\n",
    "ords_prods_merge['loyalty_flag']=ords_prods_merge['loyalty_flag'].astype('object')\n",
    "ords_prods_merge['avg_price']=ords_prods_merge['avg_price'].astype('float16')\n",
    "ords_prods_merge['spending_flag']=ords_prods_merge['spending_flag'].astype('object')\n",
    "ords_prods_merge['median_days_since_prior_order']=ords_prods_merge['median_days_since_prior_order'].astype('float16')\n",
    "ords_prods_merge['frequency_flag']=ords_prods_merge['frequency_flag'].astype('object')"
   ]
  },
  {
   "cell_type": "code",
   "execution_count": 22,
   "id": "6d53d157",
   "metadata": {},
   "outputs": [
    {
     "name": "stdout",
     "output_type": "stream",
     "text": [
      "<class 'pandas.core.frame.DataFrame'>\n",
      "Int64Index: 32404859 entries, 0 to 32404858\n",
      "Data columns (total 24 columns):\n",
      " #   Column                         Dtype  \n",
      "---  ------                         -----  \n",
      " 0   order_id                       int32  \n",
      " 1   user_id                        int32  \n",
      " 2   amount_of_orders_made          int32  \n",
      " 3   order_day_of_week              int8   \n",
      " 4   order_hour_of_day              int8   \n",
      " 5   days_since_prior_order         float16\n",
      " 6   product_id                     int32  \n",
      " 7   add_to_cart_order              int64  \n",
      " 8   reordered                      int8   \n",
      " 9   product_name                   object \n",
      " 10  aisle_id                       int8   \n",
      " 11  department_id                  int8   \n",
      " 12  prices                         float16\n",
      " 13  price_range_loc                object \n",
      " 14  busiest day                    object \n",
      " 15  busiest days                   object \n",
      " 16  Busiest Order Periods          object \n",
      " 17  max_order                      int32  \n",
      " 18  loyalty_flag                   object \n",
      " 19  avg_price                      float16\n",
      " 20  spending_flag                  object \n",
      " 21  median_days_since_prior_order  float16\n",
      " 22  frequency_flag                 object \n",
      " 23  add _to_cart_order             int32  \n",
      "dtypes: float16(4), int32(6), int64(1), int8(5), object(8)\n",
      "memory usage: 3.5+ GB\n"
     ]
    }
   ],
   "source": [
    "ords_prods_merge.info()"
   ]
  },
  {
   "cell_type": "code",
   "execution_count": 25,
   "id": "d8abc430",
   "metadata": {},
   "outputs": [],
   "source": [
    "df_customers['user_id']=df_customers['user_id'].astype('int32')\n",
    "df_customers['First Name']=df_customers['First Name'].astype('object')\n",
    "df_customers['Surname']=df_customers['Surname'].astype('object')\n",
    "df_customers['Gender']=df_customers['Gender'].astype('object')\n",
    "df_customers['State']=df_customers['State'].astype('object')\n",
    "df_customers['Age']=df_customers['Age'].astype('int8')\n",
    "df_customers['date_joined']=df_customers['date_joined'].astype('object')\n",
    "df_customers['dependants']=df_customers['dependants'].astype('int8')\n",
    "df_customers['fam_status']=df_customers['fam_status'].astype('object')\n",
    "df_customers['income']=df_customers['income'].astype('int8')"
   ]
  },
  {
   "cell_type": "code",
   "execution_count": 26,
   "id": "6584f8c5",
   "metadata": {},
   "outputs": [
    {
     "name": "stdout",
     "output_type": "stream",
     "text": [
      "<class 'pandas.core.frame.DataFrame'>\n",
      "RangeIndex: 206209 entries, 0 to 206208\n",
      "Data columns (total 10 columns):\n",
      " #   Column       Non-Null Count   Dtype \n",
      "---  ------       --------------   ----- \n",
      " 0   user_id      206209 non-null  int32 \n",
      " 1   First Name   206209 non-null  object\n",
      " 2   Surname      206209 non-null  object\n",
      " 3   Gender       206209 non-null  object\n",
      " 4   State        206209 non-null  object\n",
      " 5   Age          206209 non-null  int8  \n",
      " 6   date_joined  206209 non-null  object\n",
      " 7   dependants   206209 non-null  int8  \n",
      " 8   fam_status   206209 non-null  object\n",
      " 9   income       206209 non-null  int8  \n",
      "dtypes: int32(1), int8(3), object(6)\n",
      "memory usage: 10.8+ MB\n"
     ]
    }
   ],
   "source": [
    "df_customers.info()"
   ]
  },
  {
   "cell_type": "markdown",
   "id": "bd834594",
   "metadata": {},
   "source": [
    "## Merging and exporting datasets"
   ]
  },
  {
   "cell_type": "code",
   "execution_count": 29,
   "id": "ff0c05b4",
   "metadata": {},
   "outputs": [],
   "source": [
    "# Merging the two datasets\n",
    "instacart_merged = ords_prods_merge.merge(df_customers, on = 'user_id', indicator = True)"
   ]
  },
  {
   "cell_type": "code",
   "execution_count": 30,
   "id": "9e3f2226",
   "metadata": {},
   "outputs": [],
   "source": [
    "# Exporting the merged Data Set\n",
    "instacart_merged.to_pickle(os.path.join(path, '02 Data', 'Prepared Data', 'instacart_merged.pkl'))"
   ]
  },
  {
   "cell_type": "code",
   "execution_count": null,
   "id": "3f5b137a",
   "metadata": {},
   "outputs": [],
   "source": []
  }
 ],
 "metadata": {
  "kernelspec": {
   "display_name": "Python 3 (ipykernel)",
   "language": "python",
   "name": "python3"
  },
  "language_info": {
   "codemirror_mode": {
    "name": "ipython",
    "version": 3
   },
   "file_extension": ".py",
   "mimetype": "text/x-python",
   "name": "python",
   "nbconvert_exporter": "python",
   "pygments_lexer": "ipython3",
   "version": "3.9.13"
  }
 },
 "nbformat": 4,
 "nbformat_minor": 5
}
