{
 "cells": [
  {
   "cell_type": "markdown",
   "id": "825710b5",
   "metadata": {},
   "source": [
    "# Included in this notebook\n",
    "\n",
    "1. Importing Libraries \n",
    "\n",
    "2. Python Data Types Examples"
   ]
  },
  {
   "cell_type": "markdown",
   "id": "46fbd2ff",
   "metadata": {},
   "source": [
    "## 01.Importing Libraries"
   ]
  },
  {
   "cell_type": "code",
   "execution_count": 1,
   "id": "cfdbbaf0",
   "metadata": {},
   "outputs": [],
   "source": [
    "# Import Libraries\n",
    "import pandas as pd\n",
    "import numpy as np\n",
    "import os"
   ]
  },
  {
   "cell_type": "markdown",
   "id": "89f817ab",
   "metadata": {},
   "source": [
    "## 02.Python Data Types"
   ]
  },
  {
   "cell_type": "code",
   "execution_count": 1,
   "id": "98acdf11",
   "metadata": {
    "scrolled": true
   },
   "outputs": [
    {
     "data": {
      "text/plain": [
       "8"
      ]
     },
     "execution_count": 1,
     "metadata": {},
     "output_type": "execute_result"
    }
   ],
   "source": []
  },
  {
   "cell_type": "code",
   "execution_count": 2,
   "id": "7a0b58d1",
   "metadata": {},
   "outputs": [],
   "source": [
    "x = 200"
   ]
  },
  {
   "cell_type": "code",
   "execution_count": 3,
   "id": "1875bf78",
   "metadata": {},
   "outputs": [
    {
     "data": {
      "text/plain": [
       "100"
      ]
     },
     "execution_count": 3,
     "metadata": {},
     "output_type": "execute_result"
    }
   ],
   "source": [
    "x - 100"
   ]
  },
  {
   "cell_type": "code",
   "execution_count": 4,
   "id": "d3f0b8fb",
   "metadata": {},
   "outputs": [],
   "source": [
    "y = 50"
   ]
  },
  {
   "cell_type": "code",
   "execution_count": 5,
   "id": "69b5cfa9",
   "metadata": {},
   "outputs": [
    {
     "data": {
      "text/plain": [
       "100"
      ]
     },
     "execution_count": 5,
     "metadata": {},
     "output_type": "execute_result"
    }
   ],
   "source": [
    "y + y"
   ]
  },
  {
   "cell_type": "code",
   "execution_count": 8,
   "id": "118728f8",
   "metadata": {},
   "outputs": [],
   "source": [
    "z = 60"
   ]
  },
  {
   "cell_type": "code",
   "execution_count": 9,
   "id": "ff84a878",
   "metadata": {},
   "outputs": [
    {
     "data": {
      "text/plain": [
       "100"
      ]
     },
     "execution_count": 9,
     "metadata": {},
     "output_type": "execute_result"
    }
   ],
   "source": [
    "z + 40"
   ]
  },
  {
   "cell_type": "code",
   "execution_count": 10,
   "id": "e15f48aa",
   "metadata": {},
   "outputs": [],
   "source": [
    "x = 5.54"
   ]
  },
  {
   "cell_type": "code",
   "execution_count": 11,
   "id": "1fd7e8f4",
   "metadata": {},
   "outputs": [],
   "source": [
    "y = 10.90"
   ]
  },
  {
   "cell_type": "code",
   "execution_count": 12,
   "id": "b244e24e",
   "metadata": {},
   "outputs": [
    {
     "data": {
      "text/plain": [
       "1.967509025270758"
      ]
     },
     "execution_count": 12,
     "metadata": {},
     "output_type": "execute_result"
    }
   ],
   "source": [
    "y/x"
   ]
  },
  {
   "cell_type": "code",
   "execution_count": 14,
   "id": "eb1f79b2",
   "metadata": {},
   "outputs": [],
   "source": [
    "a = 'air'"
   ]
  },
  {
   "cell_type": "code",
   "execution_count": 15,
   "id": "a9ed3141",
   "metadata": {},
   "outputs": [],
   "source": [
    "b = 'plane'"
   ]
  },
  {
   "cell_type": "code",
   "execution_count": 16,
   "id": "8bcb4521",
   "metadata": {},
   "outputs": [
    {
     "data": {
      "text/plain": [
       "'airplane'"
      ]
     },
     "execution_count": 16,
     "metadata": {},
     "output_type": "execute_result"
    }
   ],
   "source": [
    "a + b"
   ]
  },
  {
   "cell_type": "code",
   "execution_count": 22,
   "id": "727133a7",
   "metadata": {},
   "outputs": [],
   "source": [
    "c = 'Hello '"
   ]
  },
  {
   "cell_type": "code",
   "execution_count": 27,
   "id": "8d6425f6",
   "metadata": {},
   "outputs": [],
   "source": [
    "d = 'I '"
   ]
  },
  {
   "cell_type": "code",
   "execution_count": 24,
   "id": "9ed18da8",
   "metadata": {},
   "outputs": [],
   "source": [
    "e = 'am '"
   ]
  },
  {
   "cell_type": "code",
   "execution_count": 25,
   "id": "539fd17e",
   "metadata": {},
   "outputs": [],
   "source": [
    "f = 'Jada.'"
   ]
  },
  {
   "cell_type": "code",
   "execution_count": 28,
   "id": "079c0c84",
   "metadata": {},
   "outputs": [
    {
     "data": {
      "text/plain": [
       "'Hello I am Jada.'"
      ]
     },
     "execution_count": 28,
     "metadata": {},
     "output_type": "execute_result"
    }
   ],
   "source": [
    "c + d + e + f"
   ]
  },
  {
   "cell_type": "code",
   "execution_count": 29,
   "id": "a02f841e",
   "metadata": {},
   "outputs": [],
   "source": [
    "g = 'pretty'"
   ]
  },
  {
   "cell_type": "code",
   "execution_count": 30,
   "id": "2a86e9fc",
   "metadata": {},
   "outputs": [
    {
     "data": {
      "text/plain": [
       "'I am pretty'"
      ]
     },
     "execution_count": 30,
     "metadata": {},
     "output_type": "execute_result"
    }
   ],
   "source": [
    "d + e + g"
   ]
  },
  {
   "cell_type": "code",
   "execution_count": null,
   "id": "fea5badd",
   "metadata": {},
   "outputs": [],
   "source": []
  }
 ],
 "metadata": {
  "kernelspec": {
   "display_name": "Python 3 (ipykernel)",
   "language": "python",
   "name": "python3"
  },
  "language_info": {
   "codemirror_mode": {
    "name": "ipython",
    "version": 3
   },
   "file_extension": ".py",
   "mimetype": "text/x-python",
   "name": "python",
   "nbconvert_exporter": "python",
   "pygments_lexer": "ipython3",
   "version": "3.9.13"
  }
 },
 "nbformat": 4,
 "nbformat_minor": 5
}
