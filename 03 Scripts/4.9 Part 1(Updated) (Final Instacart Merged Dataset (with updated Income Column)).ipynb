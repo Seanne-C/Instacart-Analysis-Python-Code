{
 "cells": [
  {
   "cell_type": "markdown",
   "id": "684f7db3",
   "metadata": {},
   "source": [
    "# Contents in this notebook\n",
    "This notebook was made because there seemed to be an error in the 'income' column the first time I did this merge in 4.9 Part 1 due to the way I dealt with the memory error. So I redid the merge to update the income column.\n",
    "1. Importing libraries and data\n",
    "2. Checking 'income' column\n",
    "3. Checking and cleaning customer dataset\n",
    "4. Dealing with memory error\n",
    "5. Merging customer and ords_prods_merge_new_updated data sets\n"
   ]
  },
  {
   "cell_type": "code",
   "execution_count": 2,
   "id": "46999342",
   "metadata": {},
   "outputs": [],
   "source": [
    "# Importing Libraries\n",
    "import pandas as pd\n",
    "import numpy as np\n",
    "import os"
   ]
  },
  {
   "cell_type": "code",
   "execution_count": 3,
   "id": "bad7b385",
   "metadata": {},
   "outputs": [],
   "source": [
    "# Defining Path\n",
    "path = r'C:\\Users\\seann\\Downloads\\Career Foundry Tasks\\12-08-22 Instacart Basket Analysis'"
   ]
  },
  {
   "cell_type": "code",
   "execution_count": 4,
   "id": "5dd35af4",
   "metadata": {},
   "outputs": [],
   "source": [
    "# Importing Customers data set\n",
    "df_customers = pd.read_csv(os.path.join(path, '02 Data', 'Original Data', 'customers.csv'), index_col = False)"
   ]
  },
  {
   "cell_type": "code",
   "execution_count": 5,
   "id": "4f35c6d9",
   "metadata": {},
   "outputs": [],
   "source": [
    "# Importing Orders and Products Merged Data Set\n",
    "ords_prods_merge = pd.read_pickle(os.path.join(path, '02 Data', 'Prepared Data', 'ords_prods_merge_new_updated.pkl'))"
   ]
  },
  {
   "cell_type": "markdown",
   "id": "4b0821f8",
   "metadata": {},
   "source": [
    "### Checking income column"
   ]
  },
  {
   "cell_type": "code",
   "execution_count": 6,
   "id": "1be5089e",
   "metadata": {},
   "outputs": [
    {
     "data": {
      "text/plain": [
       "57192     10\n",
       "95891     10\n",
       "95710     10\n",
       "97532      9\n",
       "98675      9\n",
       "          ..\n",
       "73141      1\n",
       "71524      1\n",
       "74408      1\n",
       "44780      1\n",
       "148828     1\n",
       "Name: income, Length: 108012, dtype: int64"
      ]
     },
     "execution_count": 6,
     "metadata": {},
     "output_type": "execute_result"
    }
   ],
   "source": [
    "df_customers['income'].value_counts(dropna = False)"
   ]
  },
  {
   "cell_type": "markdown",
   "id": "da409645",
   "metadata": {},
   "source": [
    "### Checking and Cleaning customers dataset"
   ]
  },
  {
   "cell_type": "code",
   "execution_count": 8,
   "id": "80bb5aac",
   "metadata": {},
   "outputs": [],
   "source": [
    "# Renaming Columns\n",
    "df_customers.rename(columns = {'Surnam' : 'Surname'}, inplace = True)"
   ]
  },
  {
   "cell_type": "code",
   "execution_count": 9,
   "id": "b83fffc0",
   "metadata": {},
   "outputs": [],
   "source": [
    "df_customers.rename(columns = {'STATE' : 'State'}, inplace = True)"
   ]
  },
  {
   "cell_type": "code",
   "execution_count": 10,
   "id": "c77fc9ab",
   "metadata": {},
   "outputs": [],
   "source": [
    "df_customers.rename(columns = {'n_dependants' : 'dependants'}, inplace = True)"
   ]
  },
  {
   "cell_type": "code",
   "execution_count": 11,
   "id": "30ee0749",
   "metadata": {},
   "outputs": [],
   "source": [
    "# Changing mixed data type to string\n",
    "df_customers['First Name'] = df_customers['First Name'].astype('str')"
   ]
  },
  {
   "cell_type": "markdown",
   "id": "4b8f5a85",
   "metadata": {},
   "source": [
    "### Dealing with memory error "
   ]
  },
  {
   "cell_type": "code",
   "execution_count": 12,
   "id": "4314aa0c",
   "metadata": {},
   "outputs": [
    {
     "name": "stdout",
     "output_type": "stream",
     "text": [
      "<class 'pandas.core.frame.DataFrame'>\n",
      "RangeIndex: 206209 entries, 0 to 206208\n",
      "Data columns (total 10 columns):\n",
      " #   Column       Non-Null Count   Dtype \n",
      "---  ------       --------------   ----- \n",
      " 0   user_id      206209 non-null  int64 \n",
      " 1   First Name   206209 non-null  object\n",
      " 2   Surname      206209 non-null  object\n",
      " 3   Gender       206209 non-null  object\n",
      " 4   State        206209 non-null  object\n",
      " 5   Age          206209 non-null  int64 \n",
      " 6   date_joined  206209 non-null  object\n",
      " 7   dependants   206209 non-null  int64 \n",
      " 8   fam_status   206209 non-null  object\n",
      " 9   income       206209 non-null  int64 \n",
      "dtypes: int64(4), object(6)\n",
      "memory usage: 15.7+ MB\n"
     ]
    }
   ],
   "source": [
    "# Dealing with memory error\n",
    "df_customers.info()"
   ]
  },
  {
   "cell_type": "code",
   "execution_count": 13,
   "id": "f93fbf50",
   "metadata": {},
   "outputs": [
    {
     "name": "stdout",
     "output_type": "stream",
     "text": [
      "<class 'pandas.core.frame.DataFrame'>\n",
      "Int64Index: 32404859 entries, 0 to 32404858\n",
      "Data columns (total 23 columns):\n",
      " #   Column                         Dtype  \n",
      "---  ------                         -----  \n",
      " 0   order_id                       int64  \n",
      " 1   user_id                        int64  \n",
      " 2   amount_of_orders_made          int64  \n",
      " 3   order_day_of_week              int64  \n",
      " 4   order_hour_of_day              int64  \n",
      " 5   days_since_prior_order         float64\n",
      " 6   product_id                     int64  \n",
      " 7   add_to_cart_order              int64  \n",
      " 8   reordered                      int64  \n",
      " 9   product_name                   object \n",
      " 10  aisle_id                       int64  \n",
      " 11  department_id                  int64  \n",
      " 12  prices                         float64\n",
      " 13  price_range_loc                object \n",
      " 14  busiest day                    object \n",
      " 15  busiest days                   object \n",
      " 16  Busiest Order Periods          object \n",
      " 17  max_order                      int64  \n",
      " 18  loyalty_flag                   object \n",
      " 19  avg_price                      float64\n",
      " 20  spending_flag                  object \n",
      " 21  median_days_since_prior_order  float64\n",
      " 22  frequency_flag                 object \n",
      "dtypes: float64(4), int64(11), object(8)\n",
      "memory usage: 5.8+ GB\n"
     ]
    }
   ],
   "source": [
    "ords_prods_merge.info()"
   ]
  },
  {
   "cell_type": "code",
   "execution_count": 14,
   "id": "4da7a915",
   "metadata": {},
   "outputs": [],
   "source": [
    "ords_prods_merge['order_id']=ords_prods_merge['order_id'].astype('int32')\n",
    "ords_prods_merge['user_id']=ords_prods_merge['user_id'].astype('int32')\n",
    "ords_prods_merge['amount_of_orders_made']=ords_prods_merge['amount_of_orders_made'].astype('int32')\n",
    "ords_prods_merge['order_day_of_week']=ords_prods_merge['order_day_of_week'].astype('int8')\n",
    "ords_prods_merge['order_hour_of_day']=ords_prods_merge['order_hour_of_day'].astype('int8')\n",
    "ords_prods_merge['days_since_prior_order']=ords_prods_merge['days_since_prior_order'].astype('float16')\n",
    "ords_prods_merge['product_id']=ords_prods_merge['product_id'].astype('int32')\n",
    "ords_prods_merge['add _to_cart_order']=ords_prods_merge['add_to_cart_order'].astype('int32')\n",
    "ords_prods_merge['reordered']=ords_prods_merge['reordered'].astype('int8')\n",
    "ords_prods_merge['product_name']=ords_prods_merge['product_name'].astype('object')\n",
    "ords_prods_merge['aisle_id']=ords_prods_merge['aisle_id'].astype('int8')\n",
    "ords_prods_merge['department_id']=ords_prods_merge['department_id'].astype('int8')\n",
    "ords_prods_merge['prices']=ords_prods_merge['prices'].astype('float16')\n",
    "ords_prods_merge['price_range_loc']=ords_prods_merge['price_range_loc'].astype('object')\n",
    "ords_prods_merge['busiest day']=ords_prods_merge['busiest day'].astype('object')\n",
    "ords_prods_merge['busiest days']=ords_prods_merge['busiest days'].astype('object')\n",
    "ords_prods_merge['Busiest Order Periods']=ords_prods_merge['Busiest Order Periods'].astype('object')\n",
    "ords_prods_merge['max_order']=ords_prods_merge['max_order'].astype('int32')\n",
    "ords_prods_merge['loyalty_flag']=ords_prods_merge['loyalty_flag'].astype('object')\n",
    "ords_prods_merge['avg_price']=ords_prods_merge['avg_price'].astype('float16')\n",
    "ords_prods_merge['spending_flag']=ords_prods_merge['spending_flag'].astype('object')\n",
    "ords_prods_merge['median_days_since_prior_order']=ords_prods_merge['median_days_since_prior_order'].astype('float16')\n",
    "ords_prods_merge['frequency_flag']=ords_prods_merge['frequency_flag'].astype('object')"
   ]
  },
  {
   "cell_type": "code",
   "execution_count": 15,
   "id": "b8fae8e2",
   "metadata": {},
   "outputs": [
    {
     "name": "stdout",
     "output_type": "stream",
     "text": [
      "<class 'pandas.core.frame.DataFrame'>\n",
      "Int64Index: 32404859 entries, 0 to 32404858\n",
      "Data columns (total 24 columns):\n",
      " #   Column                         Dtype  \n",
      "---  ------                         -----  \n",
      " 0   order_id                       int32  \n",
      " 1   user_id                        int32  \n",
      " 2   amount_of_orders_made          int32  \n",
      " 3   order_day_of_week              int8   \n",
      " 4   order_hour_of_day              int8   \n",
      " 5   days_since_prior_order         float16\n",
      " 6   product_id                     int32  \n",
      " 7   add_to_cart_order              int64  \n",
      " 8   reordered                      int8   \n",
      " 9   product_name                   object \n",
      " 10  aisle_id                       int8   \n",
      " 11  department_id                  int8   \n",
      " 12  prices                         float16\n",
      " 13  price_range_loc                object \n",
      " 14  busiest day                    object \n",
      " 15  busiest days                   object \n",
      " 16  Busiest Order Periods          object \n",
      " 17  max_order                      int32  \n",
      " 18  loyalty_flag                   object \n",
      " 19  avg_price                      float16\n",
      " 20  spending_flag                  object \n",
      " 21  median_days_since_prior_order  float16\n",
      " 22  frequency_flag                 object \n",
      " 23  add _to_cart_order             int32  \n",
      "dtypes: float16(4), int32(6), int64(1), int8(5), object(8)\n",
      "memory usage: 3.5+ GB\n"
     ]
    }
   ],
   "source": [
    "ords_prods_merge.info()"
   ]
  },
  {
   "cell_type": "code",
   "execution_count": 20,
   "id": "503c2a39",
   "metadata": {},
   "outputs": [],
   "source": [
    "df_customers['user_id']=df_customers['user_id'].astype('int32')\n",
    "df_customers['First Name']=df_customers['First Name'].astype('object')\n",
    "df_customers['Surname']=df_customers['Surname'].astype('object')\n",
    "df_customers['Gender']=df_customers['Gender'].astype('object')\n",
    "df_customers['State']=df_customers['State'].astype('object')\n",
    "df_customers['Age']=df_customers['Age'].astype('int8')\n",
    "df_customers['date_joined']=df_customers['date_joined'].astype('object')\n",
    "df_customers['dependants']=df_customers['dependants'].astype('int8')\n",
    "df_customers['fam_status']=df_customers['fam_status'].astype('object')\n",
    "df_customers['income']=df_customers['income'].astype('int32')"
   ]
  },
  {
   "cell_type": "code",
   "execution_count": 21,
   "id": "208fd11e",
   "metadata": {},
   "outputs": [
    {
     "name": "stdout",
     "output_type": "stream",
     "text": [
      "<class 'pandas.core.frame.DataFrame'>\n",
      "RangeIndex: 206209 entries, 0 to 206208\n",
      "Data columns (total 10 columns):\n",
      " #   Column       Non-Null Count   Dtype \n",
      "---  ------       --------------   ----- \n",
      " 0   user_id      206209 non-null  int32 \n",
      " 1   First Name   206209 non-null  object\n",
      " 2   Surname      206209 non-null  object\n",
      " 3   Gender       206209 non-null  object\n",
      " 4   State        206209 non-null  object\n",
      " 5   Age          206209 non-null  int8  \n",
      " 6   date_joined  206209 non-null  object\n",
      " 7   dependants   206209 non-null  int8  \n",
      " 8   fam_status   206209 non-null  object\n",
      " 9   income       206209 non-null  int32 \n",
      "dtypes: int32(2), int8(2), object(6)\n",
      "memory usage: 11.4+ MB\n"
     ]
    }
   ],
   "source": [
    "df_customers.info()"
   ]
  },
  {
   "cell_type": "code",
   "execution_count": 24,
   "id": "ab463bdb",
   "metadata": {},
   "outputs": [],
   "source": [
    "# Merging the two datasets\n",
    "instacart_merged_updated = ords_prods_merge.merge(df_customers, on = 'user_id', indicator = True)"
   ]
  },
  {
   "cell_type": "code",
   "execution_count": 25,
   "id": "d035afc5",
   "metadata": {},
   "outputs": [
    {
     "data": {
      "text/plain": [
       "57192     10\n",
       "95891     10\n",
       "95710     10\n",
       "97532      9\n",
       "98675      9\n",
       "          ..\n",
       "73141      1\n",
       "71524      1\n",
       "74408      1\n",
       "44780      1\n",
       "148828     1\n",
       "Name: income, Length: 108012, dtype: int64"
      ]
     },
     "execution_count": 25,
     "metadata": {},
     "output_type": "execute_result"
    }
   ],
   "source": [
    "# Checking income value count for both datasets\n",
    "df_customers['income'].value_counts(dropna = False)"
   ]
  },
  {
   "cell_type": "code",
   "execution_count": 26,
   "id": "447b5d46",
   "metadata": {},
   "outputs": [
    {
     "data": {
      "text/plain": [
       "72344     4395\n",
       "112610    4282\n",
       "57501     4136\n",
       "115620    3891\n",
       "36163     3657\n",
       "          ... \n",
       "40112        3\n",
       "53789        3\n",
       "51649        3\n",
       "41766        3\n",
       "147660       2\n",
       "Name: income, Length: 108012, dtype: int64"
      ]
     },
     "execution_count": 26,
     "metadata": {},
     "output_type": "execute_result"
    }
   ],
   "source": [
    "instacart_merged_updated['income'].value_counts(dropna = False)"
   ]
  },
  {
   "cell_type": "code",
   "execution_count": null,
   "id": "af888ebe",
   "metadata": {},
   "outputs": [],
   "source": [
    "instacart_merged_updated.head()"
   ]
  },
  {
   "cell_type": "code",
   "execution_count": 31,
   "id": "a1e8eeaf",
   "metadata": {},
   "outputs": [
    {
     "name": "stdout",
     "output_type": "stream",
     "text": [
      "<class 'pandas.core.frame.DataFrame'>\n",
      "Int64Index: 32404859 entries, 0 to 32404858\n",
      "Data columns (total 34 columns):\n",
      " #   Column                         Dtype   \n",
      "---  ------                         -----   \n",
      " 0   order_id                       int32   \n",
      " 1   user_id                        int32   \n",
      " 2   amount_of_orders_made          int32   \n",
      " 3   order_day_of_week              int8    \n",
      " 4   order_hour_of_day              int8    \n",
      " 5   days_since_prior_order         float16 \n",
      " 6   product_id                     int32   \n",
      " 7   add_to_cart_order              int64   \n",
      " 8   reordered                      int8    \n",
      " 9   product_name                   object  \n",
      " 10  aisle_id                       int8    \n",
      " 11  department_id                  int8    \n",
      " 12  prices                         float16 \n",
      " 13  price_range_loc                object  \n",
      " 14  busiest day                    object  \n",
      " 15  busiest days                   object  \n",
      " 16  Busiest Order Periods          object  \n",
      " 17  max_order                      int32   \n",
      " 18  loyalty_flag                   object  \n",
      " 19  avg_price                      float16 \n",
      " 20  spending_flag                  object  \n",
      " 21  median_days_since_prior_order  float16 \n",
      " 22  frequency_flag                 object  \n",
      " 23  add _to_cart_order             int32   \n",
      " 24  First Name                     object  \n",
      " 25  Surname                        object  \n",
      " 26  Gender                         object  \n",
      " 27  State                          object  \n",
      " 28  Age                            int8    \n",
      " 29  date_joined                    object  \n",
      " 30  dependants                     int8    \n",
      " 31  fam_status                     object  \n",
      " 32  income                         int32   \n",
      " 33  _merge                         category\n",
      "dtypes: category(1), float16(4), int32(7), int64(1), int8(7), object(14)\n",
      "memory usage: 5.2+ GB\n"
     ]
    }
   ],
   "source": [
    "instacart_merged_updated.info()"
   ]
  },
  {
   "cell_type": "code",
   "execution_count": 28,
   "id": "e85be727",
   "metadata": {},
   "outputs": [
    {
     "data": {
      "text/plain": [
       "Index(['order_id', 'user_id', 'amount_of_orders_made', 'order_day_of_week',\n",
       "       'order_hour_of_day', 'days_since_prior_order', 'product_id',\n",
       "       'add_to_cart_order', 'reordered', 'product_name', 'aisle_id',\n",
       "       'department_id', 'prices', 'price_range_loc', 'busiest day',\n",
       "       'busiest days', 'Busiest Order Periods', 'max_order', 'loyalty_flag',\n",
       "       'avg_price', 'spending_flag', 'median_days_since_prior_order',\n",
       "       'frequency_flag', 'add _to_cart_order', 'First Name', 'Surname',\n",
       "       'Gender', 'State', 'Age', 'date_joined', 'dependants', 'fam_status',\n",
       "       'income', '_merge'],\n",
       "      dtype='object')"
      ]
     },
     "execution_count": 28,
     "metadata": {},
     "output_type": "execute_result"
    }
   ],
   "source": [
    "instacart_merged_updated.columns"
   ]
  },
  {
   "cell_type": "markdown",
   "id": "99bf25ba",
   "metadata": {},
   "source": [
    "### Exporting dataset"
   ]
  },
  {
   "cell_type": "code",
   "execution_count": 33,
   "id": "383261b0",
   "metadata": {},
   "outputs": [],
   "source": [
    "# Exporting the merged Data Set\n",
    "instacart_merged_updated.to_pickle(os.path.join(path, '02 Data', 'Prepared Data', 'instacart_merged_updated.pkl'))"
   ]
  },
  {
   "cell_type": "code",
   "execution_count": null,
   "id": "ba03e316",
   "metadata": {},
   "outputs": [],
   "source": []
  }
 ],
 "metadata": {
  "kernelspec": {
   "display_name": "Python 3 (ipykernel)",
   "language": "python",
   "name": "python3"
  },
  "language_info": {
   "codemirror_mode": {
    "name": "ipython",
    "version": 3
   },
   "file_extension": ".py",
   "mimetype": "text/x-python",
   "name": "python",
   "nbconvert_exporter": "python",
   "pygments_lexer": "ipython3",
   "version": "3.9.13"
  }
 },
 "nbformat": 4,
 "nbformat_minor": 5
}
